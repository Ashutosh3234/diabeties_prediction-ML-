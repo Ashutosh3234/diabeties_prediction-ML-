{
 "cells": [
  {
   "cell_type": "markdown",
   "id": "e85c9621",
   "metadata": {
    "id": "FT8iuyH_JVKy",
    "papermill": {
     "duration": 0.009441,
     "end_time": "2022-12-30T08:23:08.990565",
     "exception": false,
     "start_time": "2022-12-30T08:23:08.981124",
     "status": "completed"
    },
    "tags": []
   },
   "source": [
    "## Phases in Diabetes Prediction Model will be:-\n",
    "\n",
    "- Business Understanding\n",
    "- Data Preprocessing\n",
    "- Data Manipulation\n",
    "- Train & Test Split\n",
    "- Modelling\n",
    "- Evaluation\n",
    "- Deployment"
   ]
  },
  {
   "cell_type": "markdown",
   "id": "a9328091",
   "metadata": {
    "id": "zeuWwhlXKjBn",
    "papermill": {
     "duration": 0.007998,
     "end_time": "2022-12-30T08:23:09.022982",
     "exception": false,
     "start_time": "2022-12-30T08:23:09.014984",
     "status": "completed"
    },
    "tags": []
   },
   "source": [
    "## Data Understanding\n",
    "\n",
    "- we will import the required libraries first.\n",
    "- we will read the dataset & study different attributes provided."
   ]
  },
  {
   "cell_type": "code",
   "execution_count": 1,
   "id": "60789091",
   "metadata": {
    "execution": {
     "iopub.execute_input": "2022-12-30T08:23:09.042181Z",
     "iopub.status.busy": "2022-12-30T08:23:09.041147Z",
     "iopub.status.idle": "2022-12-30T08:23:10.370959Z",
     "shell.execute_reply": "2022-12-30T08:23:10.369864Z"
    },
    "executionInfo": {
     "elapsed": 1078,
     "status": "ok",
     "timestamp": 1671539320552,
     "user": {
      "displayName": "Rishabh Jugran",
      "userId": "02565197563470223351"
     },
     "user_tz": -330
    },
    "id": "OO_u-M3mJSC6",
    "papermill": {
     "duration": 1.343332,
     "end_time": "2022-12-30T08:23:10.374267",
     "exception": false,
     "start_time": "2022-12-30T08:23:09.030935",
     "status": "completed"
    },
    "tags": []
   },
   "outputs": [],
   "source": [
    "import pandas as pd  #for data manipulation\n",
    "import numpy as np #for calculation & array usage\n",
    "from sklearn.preprocessing import StandardScaler #for standardizing the dataset\n",
    "from sklearn.model_selection import train_test_split #for dividing the dataset into train and test datasets\n",
    "from sklearn import svm #for creating the support vector Machine model to predict -> Is the patient diabetic\n",
    "from sklearn.metrics import accuracy_score #for checking the accuracy of the created model"
   ]
  },
  {
   "cell_type": "code",
   "execution_count": 2,
   "id": "950753f0",
   "metadata": {
    "execution": {
     "iopub.execute_input": "2022-12-30T08:23:10.393673Z",
     "iopub.status.busy": "2022-12-30T08:23:10.393252Z",
     "iopub.status.idle": "2022-12-30T08:23:10.418406Z",
     "shell.execute_reply": "2022-12-30T08:23:10.417057Z"
    },
    "executionInfo": {
     "elapsed": 836,
     "status": "ok",
     "timestamp": 1671539321385,
     "user": {
      "displayName": "Rishabh Jugran",
      "userId": "02565197563470223351"
     },
     "user_tz": -330
    },
    "id": "kebrub67LVv7",
    "papermill": {
     "duration": 0.039092,
     "end_time": "2022-12-30T08:23:10.421221",
     "exception": false,
     "start_time": "2022-12-30T08:23:10.382129",
     "status": "completed"
    },
    "tags": []
   },
   "outputs": [],
   "source": [
    "filepath = \"/kaggle/input/diabetes-data-set/diabetes.csv\" #filepath to read using pandas \n",
    "\n",
    "df =pd.read_csv(\"diabetes.csv\")\n",
    " #reading the dataset"
   ]
  },
  {
   "cell_type": "code",
   "execution_count": 3,
   "id": "601132f3",
   "metadata": {
    "execution": {
     "iopub.execute_input": "2022-12-30T08:23:10.440343Z",
     "iopub.status.busy": "2022-12-30T08:23:10.439957Z",
     "iopub.status.idle": "2022-12-30T08:23:10.449391Z",
     "shell.execute_reply": "2022-12-30T08:23:10.448247Z"
    },
    "executionInfo": {
     "elapsed": 27,
     "status": "ok",
     "timestamp": 1671539321386,
     "user": {
      "displayName": "Rishabh Jugran",
      "userId": "02565197563470223351"
     },
     "user_tz": -330
    },
    "id": "Z38gBkdfL4OE",
    "outputId": "0e5fb8df-d4c9-41fd-868e-1dd1355bdc68",
    "papermill": {
     "duration": 0.023256,
     "end_time": "2022-12-30T08:23:10.452305",
     "exception": false,
     "start_time": "2022-12-30T08:23:10.429049",
     "status": "completed"
    },
    "tags": []
   },
   "outputs": [
    {
     "data": {
      "text/plain": [
       "(768, 9)"
      ]
     },
     "execution_count": 3,
     "metadata": {},
     "output_type": "execute_result"
    }
   ],
   "source": [
    "df.shape #number of rows & columns in the imported dataset"
   ]
  },
  {
   "cell_type": "code",
   "execution_count": 4,
   "id": "8e5de9fa",
   "metadata": {
    "execution": {
     "iopub.execute_input": "2022-12-30T08:23:10.470598Z",
     "iopub.status.busy": "2022-12-30T08:23:10.470183Z",
     "iopub.status.idle": "2022-12-30T08:23:10.489580Z",
     "shell.execute_reply": "2022-12-30T08:23:10.488257Z"
    },
    "executionInfo": {
     "elapsed": 25,
     "status": "ok",
     "timestamp": 1671539321387,
     "user": {
      "displayName": "Rishabh Jugran",
      "userId": "02565197563470223351"
     },
     "user_tz": -330
    },
    "id": "nvuQrTn8L5VQ",
    "outputId": "8c829263-60b1-4f56-c625-10ed8ef99a6a",
    "papermill": {
     "duration": 0.031802,
     "end_time": "2022-12-30T08:23:10.491976",
     "exception": false,
     "start_time": "2022-12-30T08:23:10.460174",
     "status": "completed"
    },
    "tags": []
   },
   "outputs": [
    {
     "data": {
      "text/html": [
       "<div>\n",
       "<style scoped>\n",
       "    .dataframe tbody tr th:only-of-type {\n",
       "        vertical-align: middle;\n",
       "    }\n",
       "\n",
       "    .dataframe tbody tr th {\n",
       "        vertical-align: top;\n",
       "    }\n",
       "\n",
       "    .dataframe thead th {\n",
       "        text-align: right;\n",
       "    }\n",
       "</style>\n",
       "<table border=\"1\" class=\"dataframe\">\n",
       "  <thead>\n",
       "    <tr style=\"text-align: right;\">\n",
       "      <th></th>\n",
       "      <th>Pregnancies</th>\n",
       "      <th>Glucose</th>\n",
       "      <th>BloodPressure</th>\n",
       "      <th>SkinThickness</th>\n",
       "      <th>Insulin</th>\n",
       "      <th>BMI</th>\n",
       "      <th>DiabetesPedigreeFunction</th>\n",
       "      <th>Age</th>\n",
       "      <th>Outcome</th>\n",
       "    </tr>\n",
       "  </thead>\n",
       "  <tbody>\n",
       "    <tr>\n",
       "      <th>0</th>\n",
       "      <td>6</td>\n",
       "      <td>148</td>\n",
       "      <td>72</td>\n",
       "      <td>35</td>\n",
       "      <td>0</td>\n",
       "      <td>33.6</td>\n",
       "      <td>0.627</td>\n",
       "      <td>50</td>\n",
       "      <td>1</td>\n",
       "    </tr>\n",
       "    <tr>\n",
       "      <th>1</th>\n",
       "      <td>1</td>\n",
       "      <td>85</td>\n",
       "      <td>66</td>\n",
       "      <td>29</td>\n",
       "      <td>0</td>\n",
       "      <td>26.6</td>\n",
       "      <td>0.351</td>\n",
       "      <td>31</td>\n",
       "      <td>0</td>\n",
       "    </tr>\n",
       "    <tr>\n",
       "      <th>2</th>\n",
       "      <td>8</td>\n",
       "      <td>183</td>\n",
       "      <td>64</td>\n",
       "      <td>0</td>\n",
       "      <td>0</td>\n",
       "      <td>23.3</td>\n",
       "      <td>0.672</td>\n",
       "      <td>32</td>\n",
       "      <td>1</td>\n",
       "    </tr>\n",
       "    <tr>\n",
       "      <th>3</th>\n",
       "      <td>1</td>\n",
       "      <td>89</td>\n",
       "      <td>66</td>\n",
       "      <td>23</td>\n",
       "      <td>94</td>\n",
       "      <td>28.1</td>\n",
       "      <td>0.167</td>\n",
       "      <td>21</td>\n",
       "      <td>0</td>\n",
       "    </tr>\n",
       "    <tr>\n",
       "      <th>4</th>\n",
       "      <td>0</td>\n",
       "      <td>137</td>\n",
       "      <td>40</td>\n",
       "      <td>35</td>\n",
       "      <td>168</td>\n",
       "      <td>43.1</td>\n",
       "      <td>2.288</td>\n",
       "      <td>33</td>\n",
       "      <td>1</td>\n",
       "    </tr>\n",
       "  </tbody>\n",
       "</table>\n",
       "</div>"
      ],
      "text/plain": [
       "   Pregnancies  Glucose  BloodPressure  SkinThickness  Insulin   BMI  \\\n",
       "0            6      148             72             35        0  33.6   \n",
       "1            1       85             66             29        0  26.6   \n",
       "2            8      183             64              0        0  23.3   \n",
       "3            1       89             66             23       94  28.1   \n",
       "4            0      137             40             35      168  43.1   \n",
       "\n",
       "   DiabetesPedigreeFunction  Age  Outcome  \n",
       "0                     0.627   50        1  \n",
       "1                     0.351   31        0  \n",
       "2                     0.672   32        1  \n",
       "3                     0.167   21        0  \n",
       "4                     2.288   33        1  "
      ]
     },
     "execution_count": 4,
     "metadata": {},
     "output_type": "execute_result"
    }
   ],
   "source": [
    "df.head() #shows the first 5 rows to check the dataset format"
   ]
  },
  {
   "cell_type": "code",
   "execution_count": 5,
   "id": "037d4b5e",
   "metadata": {
    "execution": {
     "iopub.execute_input": "2022-12-30T08:23:10.510296Z",
     "iopub.status.busy": "2022-12-30T08:23:10.509861Z",
     "iopub.status.idle": "2022-12-30T08:23:10.560362Z",
     "shell.execute_reply": "2022-12-30T08:23:10.559064Z"
    },
    "executionInfo": {
     "elapsed": 23,
     "status": "ok",
     "timestamp": 1671539321387,
     "user": {
      "displayName": "Rishabh Jugran",
      "userId": "02565197563470223351"
     },
     "user_tz": -330
    },
    "id": "P65waNKnL7Pk",
    "outputId": "f4586272-bbb7-465f-b4dd-f1093591f48c",
    "papermill": {
     "duration": 0.062508,
     "end_time": "2022-12-30T08:23:10.562882",
     "exception": false,
     "start_time": "2022-12-30T08:23:10.500374",
     "status": "completed"
    },
    "tags": []
   },
   "outputs": [
    {
     "data": {
      "text/html": [
       "<div>\n",
       "<style scoped>\n",
       "    .dataframe tbody tr th:only-of-type {\n",
       "        vertical-align: middle;\n",
       "    }\n",
       "\n",
       "    .dataframe tbody tr th {\n",
       "        vertical-align: top;\n",
       "    }\n",
       "\n",
       "    .dataframe thead th {\n",
       "        text-align: right;\n",
       "    }\n",
       "</style>\n",
       "<table border=\"1\" class=\"dataframe\">\n",
       "  <thead>\n",
       "    <tr style=\"text-align: right;\">\n",
       "      <th></th>\n",
       "      <th>Pregnancies</th>\n",
       "      <th>Glucose</th>\n",
       "      <th>BloodPressure</th>\n",
       "      <th>SkinThickness</th>\n",
       "      <th>Insulin</th>\n",
       "      <th>BMI</th>\n",
       "      <th>DiabetesPedigreeFunction</th>\n",
       "      <th>Age</th>\n",
       "      <th>Outcome</th>\n",
       "    </tr>\n",
       "  </thead>\n",
       "  <tbody>\n",
       "    <tr>\n",
       "      <th>count</th>\n",
       "      <td>768.000000</td>\n",
       "      <td>768.000000</td>\n",
       "      <td>768.000000</td>\n",
       "      <td>768.000000</td>\n",
       "      <td>768.000000</td>\n",
       "      <td>768.000000</td>\n",
       "      <td>768.000000</td>\n",
       "      <td>768.000000</td>\n",
       "      <td>768.000000</td>\n",
       "    </tr>\n",
       "    <tr>\n",
       "      <th>mean</th>\n",
       "      <td>3.845052</td>\n",
       "      <td>120.894531</td>\n",
       "      <td>69.105469</td>\n",
       "      <td>20.536458</td>\n",
       "      <td>79.799479</td>\n",
       "      <td>31.992578</td>\n",
       "      <td>0.471876</td>\n",
       "      <td>33.240885</td>\n",
       "      <td>0.348958</td>\n",
       "    </tr>\n",
       "    <tr>\n",
       "      <th>std</th>\n",
       "      <td>3.369578</td>\n",
       "      <td>31.972618</td>\n",
       "      <td>19.355807</td>\n",
       "      <td>15.952218</td>\n",
       "      <td>115.244002</td>\n",
       "      <td>7.884160</td>\n",
       "      <td>0.331329</td>\n",
       "      <td>11.760232</td>\n",
       "      <td>0.476951</td>\n",
       "    </tr>\n",
       "    <tr>\n",
       "      <th>min</th>\n",
       "      <td>0.000000</td>\n",
       "      <td>0.000000</td>\n",
       "      <td>0.000000</td>\n",
       "      <td>0.000000</td>\n",
       "      <td>0.000000</td>\n",
       "      <td>0.000000</td>\n",
       "      <td>0.078000</td>\n",
       "      <td>21.000000</td>\n",
       "      <td>0.000000</td>\n",
       "    </tr>\n",
       "    <tr>\n",
       "      <th>25%</th>\n",
       "      <td>1.000000</td>\n",
       "      <td>99.000000</td>\n",
       "      <td>62.000000</td>\n",
       "      <td>0.000000</td>\n",
       "      <td>0.000000</td>\n",
       "      <td>27.300000</td>\n",
       "      <td>0.243750</td>\n",
       "      <td>24.000000</td>\n",
       "      <td>0.000000</td>\n",
       "    </tr>\n",
       "    <tr>\n",
       "      <th>50%</th>\n",
       "      <td>3.000000</td>\n",
       "      <td>117.000000</td>\n",
       "      <td>72.000000</td>\n",
       "      <td>23.000000</td>\n",
       "      <td>30.500000</td>\n",
       "      <td>32.000000</td>\n",
       "      <td>0.372500</td>\n",
       "      <td>29.000000</td>\n",
       "      <td>0.000000</td>\n",
       "    </tr>\n",
       "    <tr>\n",
       "      <th>75%</th>\n",
       "      <td>6.000000</td>\n",
       "      <td>140.250000</td>\n",
       "      <td>80.000000</td>\n",
       "      <td>32.000000</td>\n",
       "      <td>127.250000</td>\n",
       "      <td>36.600000</td>\n",
       "      <td>0.626250</td>\n",
       "      <td>41.000000</td>\n",
       "      <td>1.000000</td>\n",
       "    </tr>\n",
       "    <tr>\n",
       "      <th>max</th>\n",
       "      <td>17.000000</td>\n",
       "      <td>199.000000</td>\n",
       "      <td>122.000000</td>\n",
       "      <td>99.000000</td>\n",
       "      <td>846.000000</td>\n",
       "      <td>67.100000</td>\n",
       "      <td>2.420000</td>\n",
       "      <td>81.000000</td>\n",
       "      <td>1.000000</td>\n",
       "    </tr>\n",
       "  </tbody>\n",
       "</table>\n",
       "</div>"
      ],
      "text/plain": [
       "       Pregnancies     Glucose  BloodPressure  SkinThickness     Insulin  \\\n",
       "count   768.000000  768.000000     768.000000     768.000000  768.000000   \n",
       "mean      3.845052  120.894531      69.105469      20.536458   79.799479   \n",
       "std       3.369578   31.972618      19.355807      15.952218  115.244002   \n",
       "min       0.000000    0.000000       0.000000       0.000000    0.000000   \n",
       "25%       1.000000   99.000000      62.000000       0.000000    0.000000   \n",
       "50%       3.000000  117.000000      72.000000      23.000000   30.500000   \n",
       "75%       6.000000  140.250000      80.000000      32.000000  127.250000   \n",
       "max      17.000000  199.000000     122.000000      99.000000  846.000000   \n",
       "\n",
       "              BMI  DiabetesPedigreeFunction         Age     Outcome  \n",
       "count  768.000000                768.000000  768.000000  768.000000  \n",
       "mean    31.992578                  0.471876   33.240885    0.348958  \n",
       "std      7.884160                  0.331329   11.760232    0.476951  \n",
       "min      0.000000                  0.078000   21.000000    0.000000  \n",
       "25%     27.300000                  0.243750   24.000000    0.000000  \n",
       "50%     32.000000                  0.372500   29.000000    0.000000  \n",
       "75%     36.600000                  0.626250   41.000000    1.000000  \n",
       "max     67.100000                  2.420000   81.000000    1.000000  "
      ]
     },
     "execution_count": 5,
     "metadata": {},
     "output_type": "execute_result"
    }
   ],
   "source": [
    "df.describe() #statistical measure of the dataset"
   ]
  },
  {
   "cell_type": "code",
   "execution_count": 6,
   "id": "c1cfbe81",
   "metadata": {
    "execution": {
     "iopub.execute_input": "2022-12-30T08:23:10.583466Z",
     "iopub.status.busy": "2022-12-30T08:23:10.582174Z",
     "iopub.status.idle": "2022-12-30T08:23:10.591769Z",
     "shell.execute_reply": "2022-12-30T08:23:10.590568Z"
    },
    "executionInfo": {
     "elapsed": 23,
     "status": "ok",
     "timestamp": 1671539321388,
     "user": {
      "displayName": "Rishabh Jugran",
      "userId": "02565197563470223351"
     },
     "user_tz": -330
    },
    "id": "irKmUTfxMNyx",
    "outputId": "00df89c4-d9ea-4db1-e0db-f60ec868dd52",
    "papermill": {
     "duration": 0.022486,
     "end_time": "2022-12-30T08:23:10.594267",
     "exception": false,
     "start_time": "2022-12-30T08:23:10.571781",
     "status": "completed"
    },
    "tags": []
   },
   "outputs": [
    {
     "data": {
      "text/plain": [
       "0    500\n",
       "1    268\n",
       "Name: Outcome, dtype: int64"
      ]
     },
     "execution_count": 6,
     "metadata": {},
     "output_type": "execute_result"
    }
   ],
   "source": [
    "#value counts of the diabetic patients\n",
    "\n",
    "df['Outcome'].value_counts() #0 -> Non Diabetic & 1-> Diabetic"
   ]
  },
  {
   "cell_type": "code",
   "execution_count": 7,
   "id": "845e06f5",
   "metadata": {
    "execution": {
     "iopub.execute_input": "2022-12-30T08:23:10.614331Z",
     "iopub.status.busy": "2022-12-30T08:23:10.613545Z",
     "iopub.status.idle": "2022-12-30T08:23:10.632279Z",
     "shell.execute_reply": "2022-12-30T08:23:10.631096Z"
    },
    "executionInfo": {
     "elapsed": 21,
     "status": "ok",
     "timestamp": 1671539321388,
     "user": {
      "displayName": "Rishabh Jugran",
      "userId": "02565197563470223351"
     },
     "user_tz": -330
    },
    "id": "fpFdLWefNUS5",
    "outputId": "4719ce17-40c9-4697-a48b-09046df15962",
    "papermill": {
     "duration": 0.031915,
     "end_time": "2022-12-30T08:23:10.635007",
     "exception": false,
     "start_time": "2022-12-30T08:23:10.603092",
     "status": "completed"
    },
    "tags": []
   },
   "outputs": [
    {
     "data": {
      "text/html": [
       "<div>\n",
       "<style scoped>\n",
       "    .dataframe tbody tr th:only-of-type {\n",
       "        vertical-align: middle;\n",
       "    }\n",
       "\n",
       "    .dataframe tbody tr th {\n",
       "        vertical-align: top;\n",
       "    }\n",
       "\n",
       "    .dataframe thead th {\n",
       "        text-align: right;\n",
       "    }\n",
       "</style>\n",
       "<table border=\"1\" class=\"dataframe\">\n",
       "  <thead>\n",
       "    <tr style=\"text-align: right;\">\n",
       "      <th></th>\n",
       "      <th>Pregnancies</th>\n",
       "      <th>Glucose</th>\n",
       "      <th>BloodPressure</th>\n",
       "      <th>SkinThickness</th>\n",
       "      <th>Insulin</th>\n",
       "      <th>BMI</th>\n",
       "      <th>DiabetesPedigreeFunction</th>\n",
       "      <th>Age</th>\n",
       "    </tr>\n",
       "    <tr>\n",
       "      <th>Outcome</th>\n",
       "      <th></th>\n",
       "      <th></th>\n",
       "      <th></th>\n",
       "      <th></th>\n",
       "      <th></th>\n",
       "      <th></th>\n",
       "      <th></th>\n",
       "      <th></th>\n",
       "    </tr>\n",
       "  </thead>\n",
       "  <tbody>\n",
       "    <tr>\n",
       "      <th>0</th>\n",
       "      <td>3.298000</td>\n",
       "      <td>109.980000</td>\n",
       "      <td>68.184000</td>\n",
       "      <td>19.664000</td>\n",
       "      <td>68.792000</td>\n",
       "      <td>30.304200</td>\n",
       "      <td>0.429734</td>\n",
       "      <td>31.190000</td>\n",
       "    </tr>\n",
       "    <tr>\n",
       "      <th>1</th>\n",
       "      <td>4.865672</td>\n",
       "      <td>141.257463</td>\n",
       "      <td>70.824627</td>\n",
       "      <td>22.164179</td>\n",
       "      <td>100.335821</td>\n",
       "      <td>35.142537</td>\n",
       "      <td>0.550500</td>\n",
       "      <td>37.067164</td>\n",
       "    </tr>\n",
       "  </tbody>\n",
       "</table>\n",
       "</div>"
      ],
      "text/plain": [
       "         Pregnancies     Glucose  BloodPressure  SkinThickness     Insulin  \\\n",
       "Outcome                                                                      \n",
       "0           3.298000  109.980000      68.184000      19.664000   68.792000   \n",
       "1           4.865672  141.257463      70.824627      22.164179  100.335821   \n",
       "\n",
       "               BMI  DiabetesPedigreeFunction        Age  \n",
       "Outcome                                                  \n",
       "0        30.304200                  0.429734  31.190000  \n",
       "1        35.142537                  0.550500  37.067164  "
      ]
     },
     "execution_count": 7,
     "metadata": {},
     "output_type": "execute_result"
    }
   ],
   "source": [
    "df.groupby('Outcome').mean()"
   ]
  },
  {
   "cell_type": "code",
   "execution_count": 8,
   "id": "c276fe04",
   "metadata": {
    "execution": {
     "iopub.execute_input": "2022-12-30T08:23:10.655303Z",
     "iopub.status.busy": "2022-12-30T08:23:10.654886Z",
     "iopub.status.idle": "2022-12-30T08:23:10.661771Z",
     "shell.execute_reply": "2022-12-30T08:23:10.660528Z"
    },
    "executionInfo": {
     "elapsed": 21,
     "status": "ok",
     "timestamp": 1671539321389,
     "user": {
      "displayName": "Rishabh Jugran",
      "userId": "02565197563470223351"
     },
     "user_tz": -330
    },
    "id": "kuxVdM68Npes",
    "papermill": {
     "duration": 0.020122,
     "end_time": "2022-12-30T08:23:10.664406",
     "exception": false,
     "start_time": "2022-12-30T08:23:10.644284",
     "status": "completed"
    },
    "tags": []
   },
   "outputs": [],
   "source": [
    "#Separating the outcome label from the other features\n",
    "\n",
    "X = df.drop('Outcome',axis=1).values\n",
    "y = df['Outcome'].values"
   ]
  },
  {
   "cell_type": "code",
   "execution_count": 9,
   "id": "aa281d89",
   "metadata": {
    "execution": {
     "iopub.execute_input": "2022-12-30T08:23:10.684529Z",
     "iopub.status.busy": "2022-12-30T08:23:10.684114Z",
     "iopub.status.idle": "2022-12-30T08:23:10.690017Z",
     "shell.execute_reply": "2022-12-30T08:23:10.688836Z"
    },
    "executionInfo": {
     "elapsed": 21,
     "status": "ok",
     "timestamp": 1671539321389,
     "user": {
      "displayName": "Rishabh Jugran",
      "userId": "02565197563470223351"
     },
     "user_tz": -330
    },
    "id": "LrqreI89OD9Z",
    "outputId": "3f16cdc6-c941-4088-c34d-9b8472a8a9c4",
    "papermill": {
     "duration": 0.019073,
     "end_time": "2022-12-30T08:23:10.692817",
     "exception": false,
     "start_time": "2022-12-30T08:23:10.673744",
     "status": "completed"
    },
    "tags": []
   },
   "outputs": [
    {
     "name": "stdout",
     "output_type": "stream",
     "text": [
      "(768, 8) (768,)\n"
     ]
    }
   ],
   "source": [
    "print(X.shape,y.shape)"
   ]
  },
  {
   "cell_type": "markdown",
   "id": "c6ddf73f",
   "metadata": {
    "id": "HjEELYw-ORTH",
    "papermill": {
     "duration": 0.008947,
     "end_time": "2022-12-30T08:23:10.710898",
     "exception": false,
     "start_time": "2022-12-30T08:23:10.701951",
     "status": "completed"
    },
    "tags": []
   },
   "source": [
    "## Data Preprocessing & Manipulation\n",
    "\n",
    "- We will standardize the dataset to better traint the Model.\n",
    "\n",
    "```\n",
    "Data Standardization -> this is used when our dataset's column has very high covariance between them so it is difficult to train the model for this  simplicity we will be standardizing the dataset.\n",
    "```\n",
    "\n"
   ]
  },
  {
   "cell_type": "code",
   "execution_count": 10,
   "id": "e3151ebf",
   "metadata": {
    "execution": {
     "iopub.execute_input": "2022-12-30T08:23:10.731285Z",
     "iopub.status.busy": "2022-12-30T08:23:10.730499Z",
     "iopub.status.idle": "2022-12-30T08:23:10.741111Z",
     "shell.execute_reply": "2022-12-30T08:23:10.739874Z"
    },
    "executionInfo": {
     "elapsed": 20,
     "status": "ok",
     "timestamp": 1671539321390,
     "user": {
      "displayName": "Rishabh Jugran",
      "userId": "02565197563470223351"
     },
     "user_tz": -330
    },
    "id": "MdwdHwH2OHLm",
    "outputId": "ff497119-4aa1-4c60-9108-d2f284f2aaf7",
    "papermill": {
     "duration": 0.023661,
     "end_time": "2022-12-30T08:23:10.743657",
     "exception": false,
     "start_time": "2022-12-30T08:23:10.719996",
     "status": "completed"
    },
    "tags": []
   },
   "outputs": [
    {
     "data": {
      "text/plain": [
       "StandardScaler()"
      ]
     },
     "execution_count": 10,
     "metadata": {},
     "output_type": "execute_result"
    }
   ],
   "source": [
    "scaler = StandardScaler()\n",
    "#Standardize features by removing the mean and scaling to unit variance\n",
    "scaler.fit(X)"
   ]
  },
  {
   "cell_type": "code",
   "execution_count": 11,
   "id": "f3ff1917",
   "metadata": {
    "execution": {
     "iopub.execute_input": "2022-12-30T08:23:10.765048Z",
     "iopub.status.busy": "2022-12-30T08:23:10.764100Z",
     "iopub.status.idle": "2022-12-30T08:23:10.769948Z",
     "shell.execute_reply": "2022-12-30T08:23:10.768677Z"
    },
    "executionInfo": {
     "elapsed": 21,
     "status": "ok",
     "timestamp": 1671539321392,
     "user": {
      "displayName": "Rishabh Jugran",
      "userId": "02565197563470223351"
     },
     "user_tz": -330
    },
    "id": "V6glttzgPFAM",
    "papermill": {
     "duration": 0.01914,
     "end_time": "2022-12-30T08:23:10.772337",
     "exception": false,
     "start_time": "2022-12-30T08:23:10.753197",
     "status": "completed"
    },
    "tags": []
   },
   "outputs": [],
   "source": [
    "standardized_X = scaler.transform(X)"
   ]
  },
  {
   "cell_type": "code",
   "execution_count": 12,
   "id": "b8bb6aab",
   "metadata": {
    "execution": {
     "iopub.execute_input": "2022-12-30T08:23:10.793408Z",
     "iopub.status.busy": "2022-12-30T08:23:10.792978Z",
     "iopub.status.idle": "2022-12-30T08:23:10.800659Z",
     "shell.execute_reply": "2022-12-30T08:23:10.799469Z"
    },
    "executionInfo": {
     "elapsed": 20,
     "status": "ok",
     "timestamp": 1671539321392,
     "user": {
      "displayName": "Rishabh Jugran",
      "userId": "02565197563470223351"
     },
     "user_tz": -330
    },
    "id": "Erej8ANeP7kk",
    "outputId": "93b0f061-26b6-44b3-e635-bb5f9a04d45e",
    "papermill": {
     "duration": 0.021381,
     "end_time": "2022-12-30T08:23:10.803197",
     "exception": false,
     "start_time": "2022-12-30T08:23:10.781816",
     "status": "completed"
    },
    "tags": []
   },
   "outputs": [
    {
     "data": {
      "text/plain": [
       "array([[ 0.63994726,  0.84832379,  0.14964075, ...,  0.20401277,\n",
       "         0.46849198,  1.4259954 ],\n",
       "       [-0.84488505, -1.12339636, -0.16054575, ..., -0.68442195,\n",
       "        -0.36506078, -0.19067191],\n",
       "       [ 1.23388019,  1.94372388, -0.26394125, ..., -1.10325546,\n",
       "         0.60439732, -0.10558415],\n",
       "       ...,\n",
       "       [ 0.3429808 ,  0.00330087,  0.14964075, ..., -0.73518964,\n",
       "        -0.68519336, -0.27575966],\n",
       "       [-0.84488505,  0.1597866 , -0.47073225, ..., -0.24020459,\n",
       "        -0.37110101,  1.17073215],\n",
       "       [-0.84488505, -0.8730192 ,  0.04624525, ..., -0.20212881,\n",
       "        -0.47378505, -0.87137393]])"
      ]
     },
     "execution_count": 12,
     "metadata": {},
     "output_type": "execute_result"
    }
   ],
   "source": [
    "standardized_X"
   ]
  },
  {
   "cell_type": "markdown",
   "id": "98e85134",
   "metadata": {
    "id": "vQanSUlBQIDG",
    "papermill": {
     "duration": 0.009085,
     "end_time": "2022-12-30T08:23:10.821895",
     "exception": false,
     "start_time": "2022-12-30T08:23:10.812810",
     "status": "completed"
    },
    "tags": []
   },
   "source": [
    "## Modelling"
   ]
  },
  {
   "cell_type": "markdown",
   "id": "74c026da",
   "metadata": {
    "id": "dQnEyUg8RTve",
    "papermill": {
     "duration": 0.009235,
     "end_time": "2022-12-30T08:23:10.840423",
     "exception": false,
     "start_time": "2022-12-30T08:23:10.831188",
     "status": "completed"
    },
    "tags": []
   },
   "source": [
    "### Train & Test split of the dataset for Model training & evaluation"
   ]
  },
  {
   "cell_type": "code",
   "execution_count": 13,
   "id": "05cc2224",
   "metadata": {
    "execution": {
     "iopub.execute_input": "2022-12-30T08:23:10.861082Z",
     "iopub.status.busy": "2022-12-30T08:23:10.860648Z",
     "iopub.status.idle": "2022-12-30T08:23:10.869341Z",
     "shell.execute_reply": "2022-12-30T08:23:10.868401Z"
    },
    "executionInfo": {
     "elapsed": 4,
     "status": "ok",
     "timestamp": 1671539322143,
     "user": {
      "displayName": "Rishabh Jugran",
      "userId": "02565197563470223351"
     },
     "user_tz": -330
    },
    "id": "s8mZ3LGTQAuY",
    "papermill": {
     "duration": 0.021987,
     "end_time": "2022-12-30T08:23:10.871732",
     "exception": false,
     "start_time": "2022-12-30T08:23:10.849745",
     "status": "completed"
    },
    "tags": []
   },
   "outputs": [],
   "source": [
    "X_train,X_test,y_train,y_test = train_test_split(standardized_X,y,test_size=0.2,stratify=y,random_state=2)"
   ]
  },
  {
   "cell_type": "code",
   "execution_count": 14,
   "id": "836bdebc",
   "metadata": {
    "execution": {
     "iopub.execute_input": "2022-12-30T08:23:10.892853Z",
     "iopub.status.busy": "2022-12-30T08:23:10.892438Z",
     "iopub.status.idle": "2022-12-30T08:23:10.897143Z",
     "shell.execute_reply": "2022-12-30T08:23:10.896325Z"
    },
    "executionInfo": {
     "elapsed": 3,
     "status": "ok",
     "timestamp": 1671539322738,
     "user": {
      "displayName": "Rishabh Jugran",
      "userId": "02565197563470223351"
     },
     "user_tz": -330
    },
    "id": "WPLrbnbYQeVr",
    "outputId": "5aebb8ee-00ce-40cf-fe00-89ae2a4b0ead",
    "papermill": {
     "duration": 0.018697,
     "end_time": "2022-12-30T08:23:10.899998",
     "exception": false,
     "start_time": "2022-12-30T08:23:10.881301",
     "status": "completed"
    },
    "tags": []
   },
   "outputs": [
    {
     "name": "stdout",
     "output_type": "stream",
     "text": [
      "(614, 8) (154, 8) (614,) (154,)\n"
     ]
    }
   ],
   "source": [
    "print(X_train.shape,X_test.shape,y_train.shape,y_test.shape)"
   ]
  },
  {
   "cell_type": "markdown",
   "id": "dc5e6068",
   "metadata": {
    "id": "Brka1YAzRezW",
    "papermill": {
     "duration": 0.009419,
     "end_time": "2022-12-30T08:23:10.919168",
     "exception": false,
     "start_time": "2022-12-30T08:23:10.909749",
     "status": "completed"
    },
    "tags": []
   },
   "source": [
    "### Model Creation & Training"
   ]
  },
  {
   "cell_type": "code",
   "execution_count": 15,
   "id": "a85fe888",
   "metadata": {
    "execution": {
     "iopub.execute_input": "2022-12-30T08:23:10.941381Z",
     "iopub.status.busy": "2022-12-30T08:23:10.940757Z",
     "iopub.status.idle": "2022-12-30T08:23:10.944987Z",
     "shell.execute_reply": "2022-12-30T08:23:10.944104Z"
    },
    "executionInfo": {
     "elapsed": 3,
     "status": "ok",
     "timestamp": 1671539324406,
     "user": {
      "displayName": "Rishabh Jugran",
      "userId": "02565197563470223351"
     },
     "user_tz": -330
    },
    "id": "_CZwkTUsRAwy",
    "papermill": {
     "duration": 0.018421,
     "end_time": "2022-12-30T08:23:10.947177",
     "exception": false,
     "start_time": "2022-12-30T08:23:10.928756",
     "status": "completed"
    },
    "tags": []
   },
   "outputs": [],
   "source": [
    "classifier = svm.SVC(kernel='linear')"
   ]
  },
  {
   "cell_type": "code",
   "execution_count": 16,
   "id": "f6b546de",
   "metadata": {
    "execution": {
     "iopub.execute_input": "2022-12-30T08:23:10.969073Z",
     "iopub.status.busy": "2022-12-30T08:23:10.968115Z",
     "iopub.status.idle": "2022-12-30T08:23:10.992622Z",
     "shell.execute_reply": "2022-12-30T08:23:10.991041Z"
    },
    "executionInfo": {
     "elapsed": 3,
     "status": "ok",
     "timestamp": 1671539324942,
     "user": {
      "displayName": "Rishabh Jugran",
      "userId": "02565197563470223351"
     },
     "user_tz": -330
    },
    "id": "CiYrHuNYSbFE",
    "outputId": "1f562a8a-727e-4f53-eb19-0e32e508e4cf",
    "papermill": {
     "duration": 0.038397,
     "end_time": "2022-12-30T08:23:10.995336",
     "exception": false,
     "start_time": "2022-12-30T08:23:10.956939",
     "status": "completed"
    },
    "tags": []
   },
   "outputs": [
    {
     "data": {
      "text/plain": [
       "SVC(kernel='linear')"
      ]
     },
     "execution_count": 16,
     "metadata": {},
     "output_type": "execute_result"
    }
   ],
   "source": [
    "classifier.fit(X_train, y_train)"
   ]
  },
  {
   "cell_type": "markdown",
   "id": "e75882d5",
   "metadata": {
    "id": "Xs8BOXrHVXz4",
    "papermill": {
     "duration": 0.009872,
     "end_time": "2022-12-30T08:23:11.015324",
     "exception": false,
     "start_time": "2022-12-30T08:23:11.005452",
     "status": "completed"
    },
    "tags": []
   },
   "source": [
    "## Model Evaluation\n",
    "\n",
    "- Check the Accuracy of training dataset\n",
    "- check the Accuracy of Test dataset"
   ]
  },
  {
   "cell_type": "code",
   "execution_count": 17,
   "id": "17ea6131",
   "metadata": {
    "execution": {
     "iopub.execute_input": "2022-12-30T08:23:11.037352Z",
     "iopub.status.busy": "2022-12-30T08:23:11.036880Z",
     "iopub.status.idle": "2022-12-30T08:23:11.050026Z",
     "shell.execute_reply": "2022-12-30T08:23:11.048911Z"
    },
    "executionInfo": {
     "elapsed": 4,
     "status": "ok",
     "timestamp": 1671539335947,
     "user": {
      "displayName": "Rishabh Jugran",
      "userId": "02565197563470223351"
     },
     "user_tz": -330
    },
    "id": "_Dkqy5JKVimd",
    "outputId": "01f2f165-ca27-4e30-d764-5f5d479de1c4",
    "papermill": {
     "duration": 0.026914,
     "end_time": "2022-12-30T08:23:11.052217",
     "exception": false,
     "start_time": "2022-12-30T08:23:11.025303",
     "status": "completed"
    },
    "tags": []
   },
   "outputs": [
    {
     "name": "stdout",
     "output_type": "stream",
     "text": [
      "The Accuracy Score on the Training dataset is:  0.7866449511400652\n"
     ]
    }
   ],
   "source": [
    "y_hat = classifier.predict(X_train)\n",
    "\n",
    "training_score = accuracy_score(y_train, y_hat)\n",
    "\n",
    "print(\"The Accuracy Score on the Training dataset is: \",training_score)"
   ]
  },
  {
   "cell_type": "code",
   "execution_count": 18,
   "id": "be00bf1b",
   "metadata": {
    "execution": {
     "iopub.execute_input": "2022-12-30T08:23:11.074725Z",
     "iopub.status.busy": "2022-12-30T08:23:11.073962Z",
     "iopub.status.idle": "2022-12-30T08:23:11.082242Z",
     "shell.execute_reply": "2022-12-30T08:23:11.080763Z"
    },
    "executionInfo": {
     "elapsed": 4,
     "status": "ok",
     "timestamp": 1671539336600,
     "user": {
      "displayName": "Rishabh Jugran",
      "userId": "02565197563470223351"
     },
     "user_tz": -330
    },
    "id": "kJ3an-DJXHzB",
    "outputId": "74d4e141-8341-4982-84fe-a1168df1e16b",
    "papermill": {
     "duration": 0.02287,
     "end_time": "2022-12-30T08:23:11.085034",
     "exception": false,
     "start_time": "2022-12-30T08:23:11.062164",
     "status": "completed"
    },
    "tags": []
   },
   "outputs": [
    {
     "name": "stdout",
     "output_type": "stream",
     "text": [
      "The Accuracy Score on the Test dataset is:  0.7727272727272727\n"
     ]
    }
   ],
   "source": [
    "y_hat = classifier.predict(X_test)\n",
    "\n",
    "test_score = accuracy_score(y_test, y_hat)\n",
    "\n",
    "print(\"The Accuracy Score on the Test dataset is: \",test_score)"
   ]
  },
  {
   "cell_type": "markdown",
   "id": "dd1fd474",
   "metadata": {
    "id": "1ZblYMhuX0Gn",
    "papermill": {
     "duration": 0.009924,
     "end_time": "2022-12-30T08:23:11.105121",
     "exception": false,
     "start_time": "2022-12-30T08:23:11.095197",
     "status": "completed"
    },
    "tags": []
   },
   "source": [
    "## Making a Prediction Model instance wise"
   ]
  },
  {
   "cell_type": "code",
   "execution_count": 19,
   "id": "879d2a57",
   "metadata": {
    "execution": {
     "iopub.execute_input": "2022-12-30T08:23:11.127340Z",
     "iopub.status.busy": "2022-12-30T08:23:11.126901Z",
     "iopub.status.idle": "2022-12-30T08:23:11.134585Z",
     "shell.execute_reply": "2022-12-30T08:23:11.133313Z"
    },
    "executionInfo": {
     "elapsed": 441,
     "status": "ok",
     "timestamp": 1671539347314,
     "user": {
      "displayName": "Rishabh Jugran",
      "userId": "02565197563470223351"
     },
     "user_tz": -330
    },
    "id": "BQu8EbWJX7xO",
    "outputId": "a56da62b-c335-4893-fcca-8ad51243cbde",
    "papermill": {
     "duration": 0.022099,
     "end_time": "2022-12-30T08:23:11.137319",
     "exception": false,
     "start_time": "2022-12-30T08:23:11.115220",
     "status": "completed"
    },
    "tags": []
   },
   "outputs": [
    {
     "name": "stdout",
     "output_type": "stream",
     "text": [
      "The Person is Diabetic\n"
     ]
    }
   ],
   "source": [
    "input_data = (4,120,92,0,0,37.6,0.991,46)\n",
    "\n",
    "input_array = np.asarray(input_data)\n",
    "reshaped_input_array = input_array.reshape(1,-1)\n",
    "\n",
    "x_check = scaler.transform(reshaped_input_array)\n",
    "y_check = classifier.predict(x_check)\n",
    "\n",
    "if y_check[0]==0:\n",
    "  print(\"The Person is Non_diabetic\")\n",
    "else:\n",
    "  print(\"The Person is Diabetic\")"
   ]
  },
  {
   "cell_type": "code",
   "execution_count": 20,
   "id": "44b03f67",
   "metadata": {
    "execution": {
     "iopub.execute_input": "2022-12-30T08:23:11.159880Z",
     "iopub.status.busy": "2022-12-30T08:23:11.159416Z",
     "iopub.status.idle": "2022-12-30T08:23:11.179464Z",
     "shell.execute_reply": "2022-12-30T08:23:11.178381Z"
    },
    "executionInfo": {
     "elapsed": 415,
     "status": "ok",
     "timestamp": 1671539514814,
     "user": {
      "displayName": "Rishabh Jugran",
      "userId": "02565197563470223351"
     },
     "user_tz": -330
    },
    "id": "c_EFFRa_ZcZB",
    "outputId": "3f706191-f891-4bc1-e0c8-5f2097bbe2c7",
    "papermill": {
     "duration": 0.033989,
     "end_time": "2022-12-30T08:23:11.181826",
     "exception": false,
     "start_time": "2022-12-30T08:23:11.147837",
     "status": "completed"
    },
    "tags": []
   },
   "outputs": [
    {
     "name": "stdout",
     "output_type": "stream",
     "text": [
      "0.7850162866449512\n"
     ]
    }
   ],
   "source": [
    "#An alternative approach with Logistic Regression\n",
    "\n",
    "X_train,X_test,y_train,y_test = train_test_split(standardized_X,y,test_size=0.2,stratify=y,random_state=2)\n",
    "\n",
    "from sklearn.linear_model import LogisticRegression\n",
    "\n",
    "model = LogisticRegression()\n",
    "\n",
    "model.fit(X_train,y_train)\n",
    "\n"
   ]
  },
  {
   "cell_type": "code",
   "execution_count": 21,
   "id": "512f2443",
   "metadata": {
    "execution": {
     "iopub.execute_input": "2022-12-30T08:23:11.205642Z",
     "iopub.status.busy": "2022-12-30T08:23:11.204573Z",
     "iopub.status.idle": "2022-12-30T08:23:11.211121Z",
     "shell.execute_reply": "2022-12-30T08:23:11.210022Z"
    },
    "executionInfo": {
     "elapsed": 405,
     "status": "ok",
     "timestamp": 1671539646300,
     "user": {
      "displayName": "Rishabh Jugran",
      "userId": "02565197563470223351"
     },
     "user_tz": -330
    },
    "id": "irKM6aSWhInp",
    "outputId": "25b9c533-f75f-467c-c748-c02bfa84c099",
    "papermill": {
     "duration": 0.020903,
     "end_time": "2022-12-30T08:23:11.213245",
     "exception": false,
     "start_time": "2022-12-30T08:23:11.192342",
     "status": "completed"
    },
    "tags": []
   },
   "outputs": [
    {
     "name": "stdout",
     "output_type": "stream",
     "text": [
      "0.7597402597402597\n"
     ]
    }
   ],
   "source": [
    "print(accuracy_score(model.predict(X_test),y_test))"
   ]
  },
  {
   "cell_type": "code",
   "execution_count": null,
   "id": "cf3296eb",
   "metadata": {
    "id": "tMzDJl4ghtl7",
    "papermill": {
     "duration": 0.010038,
     "end_time": "2022-12-30T08:23:11.233770",
     "exception": false,
     "start_time": "2022-12-30T08:23:11.223732",
     "status": "completed"
    },
    "tags": []
   },
   "outputs": [],
   "source": []
  }
 ],
 "metadata": {
  "kernelspec": {
   "display_name": "Python 3 (ipykernel)",
   "language": "python",
   "name": "python3"
  },
  "language_info": {
   "codemirror_mode": {
    "name": "ipython",
    "version": 3
   },
   "file_extension": ".py",
   "mimetype": "text/x-python",
   "name": "python",
   "nbconvert_exporter": "python",
   "pygments_lexer": "ipython3",
   "version": "3.9.13"
  },
  "papermill": {
   "default_parameters": {},
   "duration": 11.631149,
   "end_time": "2022-12-30T08:23:11.967329",
   "environment_variables": {},
   "exception": null,
   "input_path": "__notebook__.ipynb",
   "output_path": "__notebook__.ipynb",
   "parameters": {},
   "start_time": "2022-12-30T08:23:00.336180",
   "version": "2.3.4"
  }
 },
 "nbformat": 4,
 "nbformat_minor": 5
}
