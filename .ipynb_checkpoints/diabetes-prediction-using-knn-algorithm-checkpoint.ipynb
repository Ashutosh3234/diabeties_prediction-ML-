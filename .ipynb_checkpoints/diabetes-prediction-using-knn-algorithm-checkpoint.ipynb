{
 "cells": [
  {
   "cell_type": "code",
   "execution_count": 1,
   "id": "c33f08aa",
   "metadata": {
    "_cell_guid": "b1076dfc-b9ad-4769-8c92-a6c4dae69d19",
    "_uuid": "8f2839f25d086af736a60e9eeb907d3b93b6e0e5",
    "execution": {
     "iopub.execute_input": "2022-04-12T11:55:28.677184Z",
     "iopub.status.busy": "2022-04-12T11:55:28.675949Z",
     "iopub.status.idle": "2022-04-12T11:55:29.886944Z",
     "shell.execute_reply": "2022-04-12T11:55:29.886089Z",
     "shell.execute_reply.started": "2022-04-12T11:54:22.465427Z"
    },
    "papermill": {
     "duration": 1.229835,
     "end_time": "2022-04-12T11:55:29.887121",
     "exception": false,
     "start_time": "2022-04-12T11:55:28.657286",
     "status": "completed"
    },
    "tags": []
   },
   "outputs": [],
   "source": [
    "import pandas as pd\n",
    "import numpy as np\n",
    "from sklearn.model_selection import train_test_split\n",
    "from sklearn.preprocessing import StandardScaler\n",
    "from sklearn.neighbors import KNeighborsClassifier\n",
    "from sklearn.metrics import confusion_matrix\n",
    "from sklearn.metrics import f1_score\n",
    "from sklearn.metrics import accuracy_score"
   ]
  },
  {
   "cell_type": "code",
   "execution_count": 2,
   "id": "f62b2429",
   "metadata": {
    "execution": {
     "iopub.execute_input": "2022-04-12T11:55:29.922383Z",
     "iopub.status.busy": "2022-04-12T11:55:29.920283Z",
     "iopub.status.idle": "2022-04-12T11:55:29.947500Z",
     "shell.execute_reply": "2022-04-12T11:55:29.948239Z",
     "shell.execute_reply.started": "2022-04-12T11:54:22.498185Z"
    },
    "papermill": {
     "duration": 0.045297,
     "end_time": "2022-04-12T11:55:29.948469",
     "exception": false,
     "start_time": "2022-04-12T11:55:29.903172",
     "status": "completed"
    },
    "tags": []
   },
   "outputs": [
    {
     "name": "stdout",
     "output_type": "stream",
     "text": [
      "768\n",
      "   Pregnancies  Glucose  BloodPressure  SkinThickness  Insulin   BMI  \\\n",
      "0            6      148             72             35        0  33.6   \n",
      "1            1       85             66             29        0  26.6   \n",
      "2            8      183             64              0        0  23.3   \n",
      "3            1       89             66             23       94  28.1   \n",
      "4            0      137             40             35      168  43.1   \n",
      "\n",
      "   DiabetesPedigreeFunction  Age  Outcome  \n",
      "0                     0.627   50        1  \n",
      "1                     0.351   31        0  \n",
      "2                     0.672   32        1  \n",
      "3                     0.167   21        0  \n",
      "4                     2.288   33        1  \n"
     ]
    }
   ],
   "source": [
    "dataset=pd.read_csv(\"diabetes.csv\")\n",
    "print(len(dataset))\n",
    "print(dataset.head())"
   ]
  },
  {
   "cell_type": "code",
   "execution_count": 3,
   "id": "93d01f63",
   "metadata": {
    "execution": {
     "iopub.execute_input": "2022-04-12T11:55:29.980727Z",
     "iopub.status.busy": "2022-04-12T11:55:29.980063Z",
     "iopub.status.idle": "2022-04-12T11:55:29.983904Z",
     "shell.execute_reply": "2022-04-12T11:55:29.984372Z",
     "shell.execute_reply.started": "2022-04-12T11:54:22.530992Z"
    },
    "papermill": {
     "duration": 0.020624,
     "end_time": "2022-04-12T11:55:29.984550",
     "exception": false,
     "start_time": "2022-04-12T11:55:29.963926",
     "status": "completed"
    },
    "tags": []
   },
   "outputs": [],
   "source": [
    "nonzero=['Glucose','BloodPressure','SkinThickness','Insulin','BMI']"
   ]
  },
  {
   "cell_type": "code",
   "execution_count": 4,
   "id": "b1d3eaf4",
   "metadata": {
    "execution": {
     "iopub.execute_input": "2022-04-12T11:55:30.016096Z",
     "iopub.status.busy": "2022-04-12T11:55:30.015426Z",
     "iopub.status.idle": "2022-04-12T11:55:30.029618Z",
     "shell.execute_reply": "2022-04-12T11:55:30.029042Z",
     "shell.execute_reply.started": "2022-04-12T11:54:22.562259Z"
    },
    "papermill": {
     "duration": 0.031538,
     "end_time": "2022-04-12T11:55:30.029786",
     "exception": false,
     "start_time": "2022-04-12T11:55:29.998248",
     "status": "completed"
    },
    "tags": []
   },
   "outputs": [],
   "source": [
    "for col in nonzero:\n",
    "    dataset[col]=dataset[col].replace(0,np.NaN)\n",
    "    mean=int(dataset[col].mean(skipna=True))\n",
    "    dataset[col]=dataset[col].replace(np.NaN,mean)"
   ]
  },
  {
   "cell_type": "code",
   "execution_count": 5,
   "id": "7c789024",
   "metadata": {
    "execution": {
     "iopub.execute_input": "2022-04-12T11:55:30.064835Z",
     "iopub.status.busy": "2022-04-12T11:55:30.063939Z",
     "iopub.status.idle": "2022-04-12T11:55:30.067647Z",
     "shell.execute_reply": "2022-04-12T11:55:30.068149Z",
     "shell.execute_reply.started": "2022-04-12T11:54:22.598068Z"
    },
    "papermill": {
     "duration": 0.024931,
     "end_time": "2022-04-12T11:55:30.068320",
     "exception": false,
     "start_time": "2022-04-12T11:55:30.043389",
     "status": "completed"
    },
    "tags": []
   },
   "outputs": [
    {
     "name": "stdout",
     "output_type": "stream",
     "text": [
      "0      148.0\n",
      "1       85.0\n",
      "2      183.0\n",
      "3       89.0\n",
      "4      137.0\n",
      "       ...  \n",
      "763    101.0\n",
      "764    122.0\n",
      "765    121.0\n",
      "766    126.0\n",
      "767     93.0\n",
      "Name: Glucose, Length: 768, dtype: float64\n"
     ]
    }
   ],
   "source": [
    "print(dataset['Glucose'])"
   ]
  },
  {
   "cell_type": "code",
   "execution_count": 6,
   "id": "ea108b4d",
   "metadata": {
    "execution": {
     "iopub.execute_input": "2022-04-12T11:55:30.106378Z",
     "iopub.status.busy": "2022-04-12T11:55:30.105327Z",
     "iopub.status.idle": "2022-04-12T11:55:30.112398Z",
     "shell.execute_reply": "2022-04-12T11:55:30.111851Z",
     "shell.execute_reply.started": "2022-04-12T11:54:22.624600Z"
    },
    "papermill": {
     "duration": 0.030145,
     "end_time": "2022-04-12T11:55:30.112543",
     "exception": false,
     "start_time": "2022-04-12T11:55:30.082398",
     "status": "completed"
    },
    "tags": []
   },
   "outputs": [],
   "source": [
    "x=dataset.iloc[:,0:8]\n",
    "y=dataset.iloc[:,8]\n",
    "x_train,x_test,y_train,y_test=train_test_split(x,y,random_state=1,test_size=0.3)"
   ]
  },
  {
   "cell_type": "code",
   "execution_count": 7,
   "id": "0e74b2b1",
   "metadata": {
    "execution": {
     "iopub.execute_input": "2022-04-12T11:55:30.150251Z",
     "iopub.status.busy": "2022-04-12T11:55:30.149178Z",
     "iopub.status.idle": "2022-04-12T11:55:30.156012Z",
     "shell.execute_reply": "2022-04-12T11:55:30.156556Z",
     "shell.execute_reply.started": "2022-04-12T11:54:22.654252Z"
    },
    "papermill": {
     "duration": 0.029735,
     "end_time": "2022-04-12T11:55:30.156756",
     "exception": false,
     "start_time": "2022-04-12T11:55:30.127021",
     "status": "completed"
    },
    "tags": []
   },
   "outputs": [],
   "source": [
    "sc=StandardScaler()\n",
    "x_train=sc.fit_transform(x_train)\n",
    "x_test=sc.transform(x_test)"
   ]
  },
  {
   "cell_type": "code",
   "execution_count": 8,
   "id": "09019253",
   "metadata": {
    "execution": {
     "iopub.execute_input": "2022-04-12T11:55:30.189065Z",
     "iopub.status.busy": "2022-04-12T11:55:30.188028Z",
     "iopub.status.idle": "2022-04-12T11:55:30.195402Z",
     "shell.execute_reply": "2022-04-12T11:55:30.195944Z",
     "shell.execute_reply.started": "2022-04-12T11:54:22.703270Z"
    },
    "papermill": {
     "duration": 0.025325,
     "end_time": "2022-04-12T11:55:30.196118",
     "exception": false,
     "start_time": "2022-04-12T11:55:30.170793",
     "status": "completed"
    },
    "tags": []
   },
   "outputs": [],
   "source": [
    "classifier=KNeighborsClassifier(n_neighbors=15,p=2,metric='euclidean')\n",
    "model=classifier.fit(x_train,y_train)"
   ]
  },
  {
   "cell_type": "code",
   "execution_count": 9,
   "id": "a452288a",
   "metadata": {
    "execution": {
     "iopub.execute_input": "2022-04-12T11:55:30.228321Z",
     "iopub.status.busy": "2022-04-12T11:55:30.227359Z",
     "iopub.status.idle": "2022-04-12T11:55:30.248168Z",
     "shell.execute_reply": "2022-04-12T11:55:30.248875Z",
     "shell.execute_reply.started": "2022-04-12T11:54:22.752032Z"
    },
    "papermill": {
     "duration": 0.038805,
     "end_time": "2022-04-12T11:55:30.249060",
     "exception": false,
     "start_time": "2022-04-12T11:55:30.210255",
     "status": "completed"
    },
    "tags": []
   },
   "outputs": [
    {
     "name": "stderr",
     "output_type": "stream",
     "text": [
      "C:\\ProgramData\\Anaconda3\\lib\\site-packages\\sklearn\\neighbors\\_classification.py:228: FutureWarning: Unlike other reduction functions (e.g. `skew`, `kurtosis`), the default behavior of `mode` typically preserves the axis it acts along. In SciPy 1.11.0, this behavior will change: the default value of `keepdims` will become False, the `axis` over which the statistic is taken will be eliminated, and the value None will no longer be accepted. Set `keepdims` to True or False to avoid this warning.\n",
      "  mode, _ = stats.mode(_y[neigh_ind, k], axis=1)\n"
     ]
    },
    {
     "data": {
      "text/plain": [
       "array([1, 0, 0, 0, 0, 0, 0, 0, 0, 0, 0, 0, 1, 1, 0, 1, 0, 0, 0, 0, 1, 0,\n",
       "       1, 0, 0, 0, 0, 1, 0, 0, 0, 0, 0, 1, 0, 0, 0, 0, 0, 0, 0, 0, 0, 0,\n",
       "       0, 0, 1, 1, 0, 0, 0, 0, 0, 0, 1, 0, 0, 0, 0, 1, 1, 0, 1, 0, 0, 0,\n",
       "       0, 1, 1, 1, 1, 1, 1, 0, 1, 0, 1, 0, 0, 1, 0, 0, 1, 0, 0, 1, 0, 0,\n",
       "       0, 0, 0, 0, 0, 0, 1, 0, 0, 0, 0, 0, 0, 0, 1, 0, 0, 0, 1, 0, 0, 0,\n",
       "       1, 0, 0, 0, 1, 0, 0, 1, 0, 1, 0, 1, 1, 0, 0, 0, 1, 0, 0, 0, 1, 0,\n",
       "       0, 0, 0, 0, 0, 1, 0, 0, 1, 0, 0, 1, 1, 0, 0, 0, 0, 0, 0, 1, 1, 0,\n",
       "       1, 1, 0, 0, 0, 0, 1, 1, 0, 0, 0, 0, 0, 1, 1, 1, 1, 1, 0, 0, 1, 0,\n",
       "       1, 0, 0, 0, 0, 1, 0, 1, 0, 0, 0, 0, 0, 0, 0, 0, 0, 0, 1, 0, 0, 0,\n",
       "       0, 1, 1, 0, 0, 0, 1, 1, 0, 0, 0, 1, 0, 0, 1, 0, 0, 0, 0, 0, 0, 0,\n",
       "       0, 0, 0, 1, 0, 0, 0, 0, 0, 1, 0], dtype=int64)"
      ]
     },
     "execution_count": 9,
     "metadata": {},
     "output_type": "execute_result"
    }
   ],
   "source": [
    "yp=classifier.predict(x_test)\n",
    "yp"
   ]
  },
  {
   "cell_type": "code",
   "execution_count": 10,
   "id": "853b2067",
   "metadata": {
    "execution": {
     "iopub.execute_input": "2022-04-12T11:55:30.283409Z",
     "iopub.status.busy": "2022-04-12T11:55:30.282444Z",
     "iopub.status.idle": "2022-04-12T11:55:30.288108Z",
     "shell.execute_reply": "2022-04-12T11:55:30.288977Z",
     "shell.execute_reply.started": "2022-04-12T11:54:22.781036Z"
    },
    "papermill": {
     "duration": 0.025761,
     "end_time": "2022-04-12T11:55:30.289206",
     "exception": false,
     "start_time": "2022-04-12T11:55:30.263445",
     "status": "completed"
    },
    "tags": []
   },
   "outputs": [
    {
     "name": "stdout",
     "output_type": "stream",
     "text": [
      "[[133  13]\n",
      " [ 34  51]]\n"
     ]
    }
   ],
   "source": [
    "CM=confusion_matrix(y_test,yp)\n",
    "print(CM)"
   ]
  },
  {
   "cell_type": "code",
   "execution_count": 11,
   "id": "9be479fa",
   "metadata": {
    "execution": {
     "iopub.execute_input": "2022-04-12T11:55:30.323574Z",
     "iopub.status.busy": "2022-04-12T11:55:30.322600Z",
     "iopub.status.idle": "2022-04-12T11:55:30.330053Z",
     "shell.execute_reply": "2022-04-12T11:55:30.330559Z",
     "shell.execute_reply.started": "2022-04-12T11:54:22.811679Z"
    },
    "papermill": {
     "duration": 0.025695,
     "end_time": "2022-04-12T11:55:30.330750",
     "exception": false,
     "start_time": "2022-04-12T11:55:30.305055",
     "status": "completed"
    },
    "tags": []
   },
   "outputs": [
    {
     "name": "stdout",
     "output_type": "stream",
     "text": [
      "F-Score:  0.6845637583892616\n"
     ]
    }
   ],
   "source": [
    "print(\"F-Score: \",(f1_score(y_test,yp)))"
   ]
  },
  {
   "cell_type": "code",
   "execution_count": 12,
   "id": "838e2230",
   "metadata": {
    "execution": {
     "iopub.execute_input": "2022-04-12T11:55:30.367492Z",
     "iopub.status.busy": "2022-04-12T11:55:30.366679Z",
     "iopub.status.idle": "2022-04-12T11:55:30.370669Z",
     "shell.execute_reply": "2022-04-12T11:55:30.371343Z",
     "shell.execute_reply.started": "2022-04-12T11:54:22.846513Z"
    },
    "papermill": {
     "duration": 0.025435,
     "end_time": "2022-04-12T11:55:30.371548",
     "exception": false,
     "start_time": "2022-04-12T11:55:30.346113",
     "status": "completed"
    },
    "scrolled": true,
    "tags": []
   },
   "outputs": [
    {
     "name": "stdout",
     "output_type": "stream",
     "text": [
      "Model Accuracy:  79.65367965367966 %\n"
     ]
    }
   ],
   "source": [
    "print(\"Model Accuracy: \",accuracy_score(y_test,yp)*100,\"%\")"
   ]
  }
 ],
 "metadata": {
  "kernelspec": {
   "display_name": "Python 3 (ipykernel)",
   "language": "python",
   "name": "python3"
  },
  "language_info": {
   "codemirror_mode": {
    "name": "ipython",
    "version": 3
   },
   "file_extension": ".py",
   "mimetype": "text/x-python",
   "name": "python",
   "nbconvert_exporter": "python",
   "pygments_lexer": "ipython3",
   "version": "3.9.13"
  },
  "papermill": {
   "default_parameters": {},
   "duration": 11.774536,
   "end_time": "2022-04-12T11:55:31.104312",
   "environment_variables": {},
   "exception": null,
   "input_path": "__notebook__.ipynb",
   "output_path": "__notebook__.ipynb",
   "parameters": {},
   "start_time": "2022-04-12T11:55:19.329776",
   "version": "2.3.3"
  }
 },
 "nbformat": 4,
 "nbformat_minor": 5
}
