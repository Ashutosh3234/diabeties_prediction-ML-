{
 "cells": [
  {
   "cell_type": "code",
   "execution_count": 35,
   "metadata": {
    "execution": {
     "iopub.execute_input": "2022-10-12T18:19:21.649459Z",
     "iopub.status.busy": "2022-10-12T18:19:21.648938Z",
     "iopub.status.idle": "2022-10-12T18:19:22.764362Z",
     "shell.execute_reply": "2022-10-12T18:19:22.763529Z",
     "shell.execute_reply.started": "2022-10-12T18:19:21.649358Z"
    }
   },
   "outputs": [
    {
     "data": {
      "text/html": [
       "<div>\n",
       "<style scoped>\n",
       "    .dataframe tbody tr th:only-of-type {\n",
       "        vertical-align: middle;\n",
       "    }\n",
       "\n",
       "    .dataframe tbody tr th {\n",
       "        vertical-align: top;\n",
       "    }\n",
       "\n",
       "    .dataframe thead th {\n",
       "        text-align: right;\n",
       "    }\n",
       "</style>\n",
       "<table border=\"1\" class=\"dataframe\">\n",
       "  <thead>\n",
       "    <tr style=\"text-align: right;\">\n",
       "      <th></th>\n",
       "      <th>Pregnancies</th>\n",
       "      <th>Glucose</th>\n",
       "      <th>BloodPressure</th>\n",
       "      <th>SkinThickness</th>\n",
       "      <th>Insulin</th>\n",
       "      <th>BMI</th>\n",
       "      <th>DiabetesPedigreeFunction</th>\n",
       "      <th>Age</th>\n",
       "      <th>Outcome</th>\n",
       "    </tr>\n",
       "  </thead>\n",
       "  <tbody>\n",
       "    <tr>\n",
       "      <th>0</th>\n",
       "      <td>6</td>\n",
       "      <td>148</td>\n",
       "      <td>72</td>\n",
       "      <td>35</td>\n",
       "      <td>0</td>\n",
       "      <td>33.6</td>\n",
       "      <td>0.627</td>\n",
       "      <td>50</td>\n",
       "      <td>1</td>\n",
       "    </tr>\n",
       "    <tr>\n",
       "      <th>1</th>\n",
       "      <td>1</td>\n",
       "      <td>85</td>\n",
       "      <td>66</td>\n",
       "      <td>29</td>\n",
       "      <td>0</td>\n",
       "      <td>26.6</td>\n",
       "      <td>0.351</td>\n",
       "      <td>31</td>\n",
       "      <td>0</td>\n",
       "    </tr>\n",
       "    <tr>\n",
       "      <th>2</th>\n",
       "      <td>8</td>\n",
       "      <td>183</td>\n",
       "      <td>64</td>\n",
       "      <td>0</td>\n",
       "      <td>0</td>\n",
       "      <td>23.3</td>\n",
       "      <td>0.672</td>\n",
       "      <td>32</td>\n",
       "      <td>1</td>\n",
       "    </tr>\n",
       "    <tr>\n",
       "      <th>3</th>\n",
       "      <td>1</td>\n",
       "      <td>89</td>\n",
       "      <td>66</td>\n",
       "      <td>23</td>\n",
       "      <td>94</td>\n",
       "      <td>28.1</td>\n",
       "      <td>0.167</td>\n",
       "      <td>21</td>\n",
       "      <td>0</td>\n",
       "    </tr>\n",
       "    <tr>\n",
       "      <th>4</th>\n",
       "      <td>0</td>\n",
       "      <td>137</td>\n",
       "      <td>40</td>\n",
       "      <td>35</td>\n",
       "      <td>168</td>\n",
       "      <td>43.1</td>\n",
       "      <td>2.288</td>\n",
       "      <td>33</td>\n",
       "      <td>1</td>\n",
       "    </tr>\n",
       "  </tbody>\n",
       "</table>\n",
       "</div>"
      ],
      "text/plain": [
       "   Pregnancies  Glucose  BloodPressure  SkinThickness  Insulin   BMI  \\\n",
       "0            6      148             72             35        0  33.6   \n",
       "1            1       85             66             29        0  26.6   \n",
       "2            8      183             64              0        0  23.3   \n",
       "3            1       89             66             23       94  28.1   \n",
       "4            0      137             40             35      168  43.1   \n",
       "\n",
       "   DiabetesPedigreeFunction  Age  Outcome  \n",
       "0                     0.627   50        1  \n",
       "1                     0.351   31        0  \n",
       "2                     0.672   32        1  \n",
       "3                     0.167   21        0  \n",
       "4                     2.288   33        1  "
      ]
     },
     "execution_count": 35,
     "metadata": {},
     "output_type": "execute_result"
    }
   ],
   "source": [
    "import numpy as np \n",
    "import pandas as pd \n",
    "from scipy import stats \n",
    "import seaborn as sns \n",
    "data= pd.read_csv(\"diabetes.csv\")\n",
    "data.head()"
   ]
  },
  {
   "cell_type": "code",
   "execution_count": 36,
   "metadata": {
    "execution": {
     "iopub.execute_input": "2022-10-12T18:19:28.269511Z",
     "iopub.status.busy": "2022-10-12T18:19:28.268980Z",
     "iopub.status.idle": "2022-10-12T18:19:28.297431Z",
     "shell.execute_reply": "2022-10-12T18:19:28.296167Z",
     "shell.execute_reply.started": "2022-10-12T18:19:28.269464Z"
    }
   },
   "outputs": [
    {
     "name": "stdout",
     "output_type": "stream",
     "text": [
      "<class 'pandas.core.frame.DataFrame'>\n",
      "RangeIndex: 768 entries, 0 to 767\n",
      "Data columns (total 9 columns):\n",
      " #   Column                    Non-Null Count  Dtype  \n",
      "---  ------                    --------------  -----  \n",
      " 0   Pregnancies               768 non-null    int64  \n",
      " 1   Glucose                   768 non-null    int64  \n",
      " 2   BloodPressure             768 non-null    int64  \n",
      " 3   SkinThickness             768 non-null    int64  \n",
      " 4   Insulin                   768 non-null    int64  \n",
      " 5   BMI                       768 non-null    float64\n",
      " 6   DiabetesPedigreeFunction  768 non-null    float64\n",
      " 7   Age                       768 non-null    int64  \n",
      " 8   Outcome                   768 non-null    int64  \n",
      "dtypes: float64(2), int64(7)\n",
      "memory usage: 54.1 KB\n"
     ]
    }
   ],
   "source": [
    "data.info()"
   ]
  },
  {
   "cell_type": "markdown",
   "metadata": {},
   "source": [
    "This data does not contain any null values. So we don't need to worry about filling/dropping values."
   ]
  },
  {
   "cell_type": "code",
   "execution_count": 37,
   "metadata": {
    "execution": {
     "iopub.execute_input": "2022-10-12T18:19:31.239179Z",
     "iopub.status.busy": "2022-10-12T18:19:31.238781Z",
     "iopub.status.idle": "2022-10-12T18:19:31.248147Z",
     "shell.execute_reply": "2022-10-12T18:19:31.247081Z",
     "shell.execute_reply.started": "2022-10-12T18:19:31.239146Z"
    }
   },
   "outputs": [
    {
     "data": {
      "text/plain": [
       "Pregnancies                 0\n",
       "Glucose                     0\n",
       "BloodPressure               0\n",
       "SkinThickness               0\n",
       "Insulin                     0\n",
       "BMI                         0\n",
       "DiabetesPedigreeFunction    0\n",
       "Age                         0\n",
       "Outcome                     0\n",
       "dtype: int64"
      ]
     },
     "execution_count": 37,
     "metadata": {},
     "output_type": "execute_result"
    }
   ],
   "source": [
    "data.isnull().sum()"
   ]
  },
  {
   "cell_type": "code",
   "execution_count": 38,
   "metadata": {
    "execution": {
     "iopub.execute_input": "2022-10-12T18:19:33.359194Z",
     "iopub.status.busy": "2022-10-12T18:19:33.358538Z",
     "iopub.status.idle": "2022-10-12T18:19:33.380696Z",
     "shell.execute_reply": "2022-10-12T18:19:33.379556Z",
     "shell.execute_reply.started": "2022-10-12T18:19:33.359155Z"
    }
   },
   "outputs": [
    {
     "data": {
      "text/html": [
       "<div>\n",
       "<style scoped>\n",
       "    .dataframe tbody tr th:only-of-type {\n",
       "        vertical-align: middle;\n",
       "    }\n",
       "\n",
       "    .dataframe tbody tr th {\n",
       "        vertical-align: top;\n",
       "    }\n",
       "\n",
       "    .dataframe thead th {\n",
       "        text-align: right;\n",
       "    }\n",
       "</style>\n",
       "<table border=\"1\" class=\"dataframe\">\n",
       "  <thead>\n",
       "    <tr style=\"text-align: right;\">\n",
       "      <th></th>\n",
       "      <th>Pregnancies</th>\n",
       "      <th>Glucose</th>\n",
       "      <th>BloodPressure</th>\n",
       "      <th>SkinThickness</th>\n",
       "      <th>Insulin</th>\n",
       "      <th>BMI</th>\n",
       "      <th>DiabetesPedigreeFunction</th>\n",
       "      <th>Age</th>\n",
       "      <th>Outcome</th>\n",
       "    </tr>\n",
       "  </thead>\n",
       "  <tbody>\n",
       "    <tr>\n",
       "      <th>0</th>\n",
       "      <td>6</td>\n",
       "      <td>148</td>\n",
       "      <td>72</td>\n",
       "      <td>35</td>\n",
       "      <td>0</td>\n",
       "      <td>33.6</td>\n",
       "      <td>0.627</td>\n",
       "      <td>50</td>\n",
       "      <td>1</td>\n",
       "    </tr>\n",
       "    <tr>\n",
       "      <th>1</th>\n",
       "      <td>1</td>\n",
       "      <td>85</td>\n",
       "      <td>66</td>\n",
       "      <td>29</td>\n",
       "      <td>0</td>\n",
       "      <td>26.6</td>\n",
       "      <td>0.351</td>\n",
       "      <td>31</td>\n",
       "      <td>0</td>\n",
       "    </tr>\n",
       "    <tr>\n",
       "      <th>2</th>\n",
       "      <td>8</td>\n",
       "      <td>183</td>\n",
       "      <td>64</td>\n",
       "      <td>0</td>\n",
       "      <td>0</td>\n",
       "      <td>23.3</td>\n",
       "      <td>0.672</td>\n",
       "      <td>32</td>\n",
       "      <td>1</td>\n",
       "    </tr>\n",
       "    <tr>\n",
       "      <th>3</th>\n",
       "      <td>1</td>\n",
       "      <td>89</td>\n",
       "      <td>66</td>\n",
       "      <td>23</td>\n",
       "      <td>94</td>\n",
       "      <td>28.1</td>\n",
       "      <td>0.167</td>\n",
       "      <td>21</td>\n",
       "      <td>0</td>\n",
       "    </tr>\n",
       "    <tr>\n",
       "      <th>4</th>\n",
       "      <td>0</td>\n",
       "      <td>137</td>\n",
       "      <td>40</td>\n",
       "      <td>35</td>\n",
       "      <td>168</td>\n",
       "      <td>43.1</td>\n",
       "      <td>2.288</td>\n",
       "      <td>33</td>\n",
       "      <td>1</td>\n",
       "    </tr>\n",
       "  </tbody>\n",
       "</table>\n",
       "</div>"
      ],
      "text/plain": [
       "   Pregnancies  Glucose  BloodPressure  SkinThickness  Insulin   BMI  \\\n",
       "0            6      148             72             35        0  33.6   \n",
       "1            1       85             66             29        0  26.6   \n",
       "2            8      183             64              0        0  23.3   \n",
       "3            1       89             66             23       94  28.1   \n",
       "4            0      137             40             35      168  43.1   \n",
       "\n",
       "   DiabetesPedigreeFunction  Age  Outcome  \n",
       "0                     0.627   50        1  \n",
       "1                     0.351   31        0  \n",
       "2                     0.672   32        1  \n",
       "3                     0.167   21        0  \n",
       "4                     2.288   33        1  "
      ]
     },
     "execution_count": 38,
     "metadata": {},
     "output_type": "execute_result"
    }
   ],
   "source": [
    "data.duplicated()\n",
    "data=data.drop_duplicates()\n",
    "data.head()"
   ]
  },
  {
   "cell_type": "markdown",
   "metadata": {},
   "source": [
    "The data doesn't contain any duplicate values also. Hence we need not worry about them."
   ]
  },
  {
   "cell_type": "code",
   "execution_count": 39,
   "metadata": {
    "execution": {
     "iopub.execute_input": "2022-10-12T18:19:35.179067Z",
     "iopub.status.busy": "2022-10-12T18:19:35.178636Z",
     "iopub.status.idle": "2022-10-12T18:19:35.218874Z",
     "shell.execute_reply": "2022-10-12T18:19:35.217638Z",
     "shell.execute_reply.started": "2022-10-12T18:19:35.179030Z"
    }
   },
   "outputs": [
    {
     "data": {
      "text/html": [
       "<div>\n",
       "<style scoped>\n",
       "    .dataframe tbody tr th:only-of-type {\n",
       "        vertical-align: middle;\n",
       "    }\n",
       "\n",
       "    .dataframe tbody tr th {\n",
       "        vertical-align: top;\n",
       "    }\n",
       "\n",
       "    .dataframe thead th {\n",
       "        text-align: right;\n",
       "    }\n",
       "</style>\n",
       "<table border=\"1\" class=\"dataframe\">\n",
       "  <thead>\n",
       "    <tr style=\"text-align: right;\">\n",
       "      <th></th>\n",
       "      <th>Pregnancies</th>\n",
       "      <th>Glucose</th>\n",
       "      <th>BloodPressure</th>\n",
       "      <th>SkinThickness</th>\n",
       "      <th>Insulin</th>\n",
       "      <th>BMI</th>\n",
       "      <th>DiabetesPedigreeFunction</th>\n",
       "      <th>Age</th>\n",
       "      <th>Outcome</th>\n",
       "    </tr>\n",
       "  </thead>\n",
       "  <tbody>\n",
       "    <tr>\n",
       "      <th>count</th>\n",
       "      <td>768.000000</td>\n",
       "      <td>768.000000</td>\n",
       "      <td>768.000000</td>\n",
       "      <td>768.000000</td>\n",
       "      <td>768.000000</td>\n",
       "      <td>768.000000</td>\n",
       "      <td>768.000000</td>\n",
       "      <td>768.000000</td>\n",
       "      <td>768.000000</td>\n",
       "    </tr>\n",
       "    <tr>\n",
       "      <th>mean</th>\n",
       "      <td>3.845052</td>\n",
       "      <td>120.894531</td>\n",
       "      <td>69.105469</td>\n",
       "      <td>20.536458</td>\n",
       "      <td>79.799479</td>\n",
       "      <td>31.992578</td>\n",
       "      <td>0.471876</td>\n",
       "      <td>33.240885</td>\n",
       "      <td>0.348958</td>\n",
       "    </tr>\n",
       "    <tr>\n",
       "      <th>std</th>\n",
       "      <td>3.369578</td>\n",
       "      <td>31.972618</td>\n",
       "      <td>19.355807</td>\n",
       "      <td>15.952218</td>\n",
       "      <td>115.244002</td>\n",
       "      <td>7.884160</td>\n",
       "      <td>0.331329</td>\n",
       "      <td>11.760232</td>\n",
       "      <td>0.476951</td>\n",
       "    </tr>\n",
       "    <tr>\n",
       "      <th>min</th>\n",
       "      <td>0.000000</td>\n",
       "      <td>0.000000</td>\n",
       "      <td>0.000000</td>\n",
       "      <td>0.000000</td>\n",
       "      <td>0.000000</td>\n",
       "      <td>0.000000</td>\n",
       "      <td>0.078000</td>\n",
       "      <td>21.000000</td>\n",
       "      <td>0.000000</td>\n",
       "    </tr>\n",
       "    <tr>\n",
       "      <th>25%</th>\n",
       "      <td>1.000000</td>\n",
       "      <td>99.000000</td>\n",
       "      <td>62.000000</td>\n",
       "      <td>0.000000</td>\n",
       "      <td>0.000000</td>\n",
       "      <td>27.300000</td>\n",
       "      <td>0.243750</td>\n",
       "      <td>24.000000</td>\n",
       "      <td>0.000000</td>\n",
       "    </tr>\n",
       "    <tr>\n",
       "      <th>50%</th>\n",
       "      <td>3.000000</td>\n",
       "      <td>117.000000</td>\n",
       "      <td>72.000000</td>\n",
       "      <td>23.000000</td>\n",
       "      <td>30.500000</td>\n",
       "      <td>32.000000</td>\n",
       "      <td>0.372500</td>\n",
       "      <td>29.000000</td>\n",
       "      <td>0.000000</td>\n",
       "    </tr>\n",
       "    <tr>\n",
       "      <th>75%</th>\n",
       "      <td>6.000000</td>\n",
       "      <td>140.250000</td>\n",
       "      <td>80.000000</td>\n",
       "      <td>32.000000</td>\n",
       "      <td>127.250000</td>\n",
       "      <td>36.600000</td>\n",
       "      <td>0.626250</td>\n",
       "      <td>41.000000</td>\n",
       "      <td>1.000000</td>\n",
       "    </tr>\n",
       "    <tr>\n",
       "      <th>max</th>\n",
       "      <td>17.000000</td>\n",
       "      <td>199.000000</td>\n",
       "      <td>122.000000</td>\n",
       "      <td>99.000000</td>\n",
       "      <td>846.000000</td>\n",
       "      <td>67.100000</td>\n",
       "      <td>2.420000</td>\n",
       "      <td>81.000000</td>\n",
       "      <td>1.000000</td>\n",
       "    </tr>\n",
       "  </tbody>\n",
       "</table>\n",
       "</div>"
      ],
      "text/plain": [
       "       Pregnancies     Glucose  BloodPressure  SkinThickness     Insulin  \\\n",
       "count   768.000000  768.000000     768.000000     768.000000  768.000000   \n",
       "mean      3.845052  120.894531      69.105469      20.536458   79.799479   \n",
       "std       3.369578   31.972618      19.355807      15.952218  115.244002   \n",
       "min       0.000000    0.000000       0.000000       0.000000    0.000000   \n",
       "25%       1.000000   99.000000      62.000000       0.000000    0.000000   \n",
       "50%       3.000000  117.000000      72.000000      23.000000   30.500000   \n",
       "75%       6.000000  140.250000      80.000000      32.000000  127.250000   \n",
       "max      17.000000  199.000000     122.000000      99.000000  846.000000   \n",
       "\n",
       "              BMI  DiabetesPedigreeFunction         Age     Outcome  \n",
       "count  768.000000                768.000000  768.000000  768.000000  \n",
       "mean    31.992578                  0.471876   33.240885    0.348958  \n",
       "std      7.884160                  0.331329   11.760232    0.476951  \n",
       "min      0.000000                  0.078000   21.000000    0.000000  \n",
       "25%     27.300000                  0.243750   24.000000    0.000000  \n",
       "50%     32.000000                  0.372500   29.000000    0.000000  \n",
       "75%     36.600000                  0.626250   41.000000    1.000000  \n",
       "max     67.100000                  2.420000   81.000000    1.000000  "
      ]
     },
     "execution_count": 39,
     "metadata": {},
     "output_type": "execute_result"
    }
   ],
   "source": [
    "data.describe()"
   ]
  },
  {
   "cell_type": "markdown",
   "metadata": {},
   "source": [
    "All bioparameters are in the range. Hence the data does not have observational/structural errors in them. Hence we need to worry about them."
   ]
  },
  {
   "cell_type": "code",
   "execution_count": 40,
   "metadata": {
    "execution": {
     "iopub.execute_input": "2022-10-12T18:19:37.866932Z",
     "iopub.status.busy": "2022-10-12T18:19:37.866543Z",
     "iopub.status.idle": "2022-10-12T18:19:37.910921Z",
     "shell.execute_reply": "2022-10-12T18:19:37.909795Z",
     "shell.execute_reply.started": "2022-10-12T18:19:37.866900Z"
    }
   },
   "outputs": [
    {
     "name": "stdout",
     "output_type": "stream",
     "text": [
      "Pregnancies0      0.639947\n",
      "1      0.844885\n",
      "2      1.233880\n",
      "3      0.844885\n",
      "4      1.141852\n",
      "         ...   \n",
      "763    1.827813\n",
      "764    0.547919\n",
      "765    0.342981\n",
      "766    0.844885\n",
      "767    0.844885\n",
      "Name: Pregnancies, Length: 768, dtype: float64\n",
      "Glucose0      0.848324\n",
      "1      1.123396\n",
      "2      1.943724\n",
      "3      0.998208\n",
      "4      0.504055\n",
      "         ...   \n",
      "763    0.622642\n",
      "764    0.034598\n",
      "765    0.003301\n",
      "766    0.159787\n",
      "767    0.873019\n",
      "Name: Glucose, Length: 768, dtype: float64\n",
      "BloodPressure0      0.149641\n",
      "1      0.160546\n",
      "2      0.263941\n",
      "3      0.160546\n",
      "4      1.504687\n",
      "         ...   \n",
      "763    0.356432\n",
      "764    0.046245\n",
      "765    0.149641\n",
      "766    0.470732\n",
      "767    0.046245\n",
      "Name: BloodPressure, Length: 768, dtype: float64\n",
      "SkinThickness0      0.907270\n",
      "1      0.530902\n",
      "2      1.288212\n",
      "3      0.154533\n",
      "4      0.907270\n",
      "         ...   \n",
      "763    1.722735\n",
      "764    0.405445\n",
      "765    0.154533\n",
      "766    1.288212\n",
      "767    0.656358\n",
      "Name: SkinThickness, Length: 768, dtype: float64\n",
      "Insulin0      0.692891\n",
      "1      0.692891\n",
      "2      0.692891\n",
      "3      0.123302\n",
      "4      0.765836\n",
      "         ...   \n",
      "763    0.870031\n",
      "764    0.692891\n",
      "765    0.279594\n",
      "766    0.692891\n",
      "767    0.692891\n",
      "Name: Insulin, Length: 768, dtype: float64\n",
      "BMI0      0.204013\n",
      "1      0.684422\n",
      "2      1.103255\n",
      "3      0.494043\n",
      "4      1.409746\n",
      "         ...   \n",
      "763    0.115169\n",
      "764    0.610154\n",
      "765    0.735190\n",
      "766    0.240205\n",
      "767    0.202129\n",
      "Name: BMI, Length: 768, dtype: float64\n",
      "DiabetesPedigreeFunction0      0.468492\n",
      "1      0.365061\n",
      "2      0.604397\n",
      "3      0.920763\n",
      "4      5.484909\n",
      "         ...   \n",
      "763    0.908682\n",
      "764    0.398282\n",
      "765    0.685193\n",
      "766    0.371101\n",
      "767    0.473785\n",
      "Name: DiabetesPedigreeFunction, Length: 768, dtype: float64\n",
      "Age0      1.425995\n",
      "1      0.190672\n",
      "2      0.105584\n",
      "3      1.041549\n",
      "4      0.020496\n",
      "         ...   \n",
      "763    2.532136\n",
      "764    0.531023\n",
      "765    0.275760\n",
      "766    1.170732\n",
      "767    0.871374\n",
      "Name: Age, Length: 768, dtype: float64\n",
      "Outcome0      1.365896\n",
      "1      0.732120\n",
      "2      1.365896\n",
      "3      0.732120\n",
      "4      1.365896\n",
      "         ...   \n",
      "763    0.732120\n",
      "764    0.732120\n",
      "765    0.732120\n",
      "766    1.365896\n",
      "767    0.732120\n",
      "Name: Outcome, Length: 768, dtype: float64\n"
     ]
    }
   ],
   "source": [
    "for x in data.columns:\n",
    "    z=np.abs(stats.zscore(data[x]))\n",
    "    print(x+str(z))"
   ]
  },
  {
   "cell_type": "markdown",
   "metadata": {},
   "source": [
    "According to the z-score statistical parameter, the above datapoints are considered as outliers. But I dont think these are outliers and I consider that these data are essential for identfying diabetes condition."
   ]
  },
  {
   "cell_type": "markdown",
   "metadata": {},
   "source": [
    "The next step is feature scaling. I am doing a comparison of ML and DL for this dataset. For ML, i am considering SVM, which is a distance based algorithm. Hence normalization of data would be appropriate. On the other hand, for DL I am considering ANN, which is gradient descent based algorithm for which standardisation of data would be appropriate, since it can help in faster identification of local minima."
   ]
  },
  {
   "cell_type": "code",
   "execution_count": 41,
   "metadata": {
    "execution": {
     "iopub.execute_input": "2022-10-12T18:19:38.357385Z",
     "iopub.status.busy": "2022-10-12T18:19:38.356960Z",
     "iopub.status.idle": "2022-10-12T18:19:38.384389Z",
     "shell.execute_reply": "2022-10-12T18:19:38.383447Z",
     "shell.execute_reply.started": "2022-10-12T18:19:38.357350Z"
    }
   },
   "outputs": [
    {
     "data": {
      "text/html": [
       "<div>\n",
       "<style scoped>\n",
       "    .dataframe tbody tr th:only-of-type {\n",
       "        vertical-align: middle;\n",
       "    }\n",
       "\n",
       "    .dataframe tbody tr th {\n",
       "        vertical-align: top;\n",
       "    }\n",
       "\n",
       "    .dataframe thead th {\n",
       "        text-align: right;\n",
       "    }\n",
       "</style>\n",
       "<table border=\"1\" class=\"dataframe\">\n",
       "  <thead>\n",
       "    <tr style=\"text-align: right;\">\n",
       "      <th></th>\n",
       "      <th>Pregnancies</th>\n",
       "      <th>Glucose</th>\n",
       "      <th>BloodPressure</th>\n",
       "      <th>SkinThickness</th>\n",
       "      <th>Insulin</th>\n",
       "      <th>BMI</th>\n",
       "      <th>DiabetesPedigreeFunction</th>\n",
       "      <th>Age</th>\n",
       "      <th>Outcome</th>\n",
       "    </tr>\n",
       "  </thead>\n",
       "  <tbody>\n",
       "    <tr>\n",
       "      <th>0</th>\n",
       "      <td>0.352941</td>\n",
       "      <td>0.743719</td>\n",
       "      <td>0.590164</td>\n",
       "      <td>0.353535</td>\n",
       "      <td>0.000000</td>\n",
       "      <td>0.500745</td>\n",
       "      <td>0.234415</td>\n",
       "      <td>0.483333</td>\n",
       "      <td>1.0</td>\n",
       "    </tr>\n",
       "    <tr>\n",
       "      <th>1</th>\n",
       "      <td>0.058824</td>\n",
       "      <td>0.427136</td>\n",
       "      <td>0.540984</td>\n",
       "      <td>0.292929</td>\n",
       "      <td>0.000000</td>\n",
       "      <td>0.396423</td>\n",
       "      <td>0.116567</td>\n",
       "      <td>0.166667</td>\n",
       "      <td>0.0</td>\n",
       "    </tr>\n",
       "    <tr>\n",
       "      <th>2</th>\n",
       "      <td>0.470588</td>\n",
       "      <td>0.919598</td>\n",
       "      <td>0.524590</td>\n",
       "      <td>0.000000</td>\n",
       "      <td>0.000000</td>\n",
       "      <td>0.347243</td>\n",
       "      <td>0.253629</td>\n",
       "      <td>0.183333</td>\n",
       "      <td>1.0</td>\n",
       "    </tr>\n",
       "    <tr>\n",
       "      <th>3</th>\n",
       "      <td>0.058824</td>\n",
       "      <td>0.447236</td>\n",
       "      <td>0.540984</td>\n",
       "      <td>0.232323</td>\n",
       "      <td>0.111111</td>\n",
       "      <td>0.418778</td>\n",
       "      <td>0.038002</td>\n",
       "      <td>0.000000</td>\n",
       "      <td>0.0</td>\n",
       "    </tr>\n",
       "    <tr>\n",
       "      <th>4</th>\n",
       "      <td>0.000000</td>\n",
       "      <td>0.688442</td>\n",
       "      <td>0.327869</td>\n",
       "      <td>0.353535</td>\n",
       "      <td>0.198582</td>\n",
       "      <td>0.642325</td>\n",
       "      <td>0.943638</td>\n",
       "      <td>0.200000</td>\n",
       "      <td>1.0</td>\n",
       "    </tr>\n",
       "  </tbody>\n",
       "</table>\n",
       "</div>"
      ],
      "text/plain": [
       "   Pregnancies   Glucose  BloodPressure  SkinThickness   Insulin       BMI  \\\n",
       "0     0.352941  0.743719       0.590164       0.353535  0.000000  0.500745   \n",
       "1     0.058824  0.427136       0.540984       0.292929  0.000000  0.396423   \n",
       "2     0.470588  0.919598       0.524590       0.000000  0.000000  0.347243   \n",
       "3     0.058824  0.447236       0.540984       0.232323  0.111111  0.418778   \n",
       "4     0.000000  0.688442       0.327869       0.353535  0.198582  0.642325   \n",
       "\n",
       "   DiabetesPedigreeFunction       Age  Outcome  \n",
       "0                  0.234415  0.483333      1.0  \n",
       "1                  0.116567  0.166667      0.0  \n",
       "2                  0.253629  0.183333      1.0  \n",
       "3                  0.038002  0.000000      0.0  \n",
       "4                  0.943638  0.200000      1.0  "
      ]
     },
     "execution_count": 41,
     "metadata": {},
     "output_type": "execute_result"
    }
   ],
   "source": [
    "data_norm=data.copy()\n",
    "for column in data.columns:\n",
    "    data_norm[column] = (data_norm[column] - data_norm[column].min()) / (data_norm[column].max() - data_norm[column].min()) \n",
    "data_norm.head()"
   ]
  },
  {
   "cell_type": "code",
   "execution_count": 42,
   "metadata": {
    "execution": {
     "iopub.execute_input": "2022-10-12T18:19:38.499397Z",
     "iopub.status.busy": "2022-10-12T18:19:38.498752Z",
     "iopub.status.idle": "2022-10-12T18:19:38.525501Z",
     "shell.execute_reply": "2022-10-12T18:19:38.524643Z",
     "shell.execute_reply.started": "2022-10-12T18:19:38.499356Z"
    }
   },
   "outputs": [
    {
     "data": {
      "text/html": [
       "<div>\n",
       "<style scoped>\n",
       "    .dataframe tbody tr th:only-of-type {\n",
       "        vertical-align: middle;\n",
       "    }\n",
       "\n",
       "    .dataframe tbody tr th {\n",
       "        vertical-align: top;\n",
       "    }\n",
       "\n",
       "    .dataframe thead th {\n",
       "        text-align: right;\n",
       "    }\n",
       "</style>\n",
       "<table border=\"1\" class=\"dataframe\">\n",
       "  <thead>\n",
       "    <tr style=\"text-align: right;\">\n",
       "      <th></th>\n",
       "      <th>Pregnancies</th>\n",
       "      <th>Glucose</th>\n",
       "      <th>BloodPressure</th>\n",
       "      <th>SkinThickness</th>\n",
       "      <th>Insulin</th>\n",
       "      <th>BMI</th>\n",
       "      <th>DiabetesPedigreeFunction</th>\n",
       "      <th>Age</th>\n",
       "      <th>Outcome</th>\n",
       "    </tr>\n",
       "  </thead>\n",
       "  <tbody>\n",
       "    <tr>\n",
       "      <th>0</th>\n",
       "      <td>0.639530</td>\n",
       "      <td>0.847771</td>\n",
       "      <td>0.149543</td>\n",
       "      <td>0.906679</td>\n",
       "      <td>-0.692439</td>\n",
       "      <td>0.203880</td>\n",
       "      <td>0.468187</td>\n",
       "      <td>1.425067</td>\n",
       "      <td>1</td>\n",
       "    </tr>\n",
       "    <tr>\n",
       "      <th>1</th>\n",
       "      <td>-0.844335</td>\n",
       "      <td>-1.122665</td>\n",
       "      <td>-0.160441</td>\n",
       "      <td>0.530556</td>\n",
       "      <td>-0.692439</td>\n",
       "      <td>-0.683976</td>\n",
       "      <td>-0.364823</td>\n",
       "      <td>-0.190548</td>\n",
       "      <td>0</td>\n",
       "    </tr>\n",
       "    <tr>\n",
       "      <th>2</th>\n",
       "      <td>1.233077</td>\n",
       "      <td>1.942458</td>\n",
       "      <td>-0.263769</td>\n",
       "      <td>-1.287373</td>\n",
       "      <td>-0.692439</td>\n",
       "      <td>-1.102537</td>\n",
       "      <td>0.604004</td>\n",
       "      <td>-0.105515</td>\n",
       "      <td>1</td>\n",
       "    </tr>\n",
       "    <tr>\n",
       "      <th>3</th>\n",
       "      <td>-0.844335</td>\n",
       "      <td>-0.997558</td>\n",
       "      <td>-0.160441</td>\n",
       "      <td>0.154433</td>\n",
       "      <td>0.123221</td>\n",
       "      <td>-0.493721</td>\n",
       "      <td>-0.920163</td>\n",
       "      <td>-1.040871</td>\n",
       "      <td>0</td>\n",
       "    </tr>\n",
       "    <tr>\n",
       "      <th>4</th>\n",
       "      <td>-1.141108</td>\n",
       "      <td>0.503727</td>\n",
       "      <td>-1.503707</td>\n",
       "      <td>0.906679</td>\n",
       "      <td>0.765337</td>\n",
       "      <td>1.408828</td>\n",
       "      <td>5.481337</td>\n",
       "      <td>-0.020483</td>\n",
       "      <td>1</td>\n",
       "    </tr>\n",
       "  </tbody>\n",
       "</table>\n",
       "</div>"
      ],
      "text/plain": [
       "   Pregnancies   Glucose  BloodPressure  SkinThickness   Insulin       BMI  \\\n",
       "0     0.639530  0.847771       0.149543       0.906679 -0.692439  0.203880   \n",
       "1    -0.844335 -1.122665      -0.160441       0.530556 -0.692439 -0.683976   \n",
       "2     1.233077  1.942458      -0.263769      -1.287373 -0.692439 -1.102537   \n",
       "3    -0.844335 -0.997558      -0.160441       0.154433  0.123221 -0.493721   \n",
       "4    -1.141108  0.503727      -1.503707       0.906679  0.765337  1.408828   \n",
       "\n",
       "   DiabetesPedigreeFunction       Age  Outcome  \n",
       "0                  0.468187  1.425067        1  \n",
       "1                 -0.364823 -0.190548        0  \n",
       "2                  0.604004 -0.105515        1  \n",
       "3                 -0.920163 -1.040871        0  \n",
       "4                  5.481337 -0.020483        1  "
      ]
     },
     "execution_count": 42,
     "metadata": {},
     "output_type": "execute_result"
    }
   ],
   "source": [
    "lis=['Glucose','BloodPressure','SkinThickness','Insulin','BMI','DiabetesPedigreeFunction','Age','Pregnancies']\n",
    "def standartization(x):\n",
    "    x_std = x.copy(deep=True)\n",
    "    for column in lis:\n",
    "        x_std[column] = (x_std[column] - x_std[column].mean()) / x_std[column].std() \n",
    "    return x_std\n",
    "\n",
    "data= standartization(data)\n",
    "data.head()"
   ]
  },
  {
   "cell_type": "code",
   "execution_count": 43,
   "metadata": {
    "execution": {
     "iopub.execute_input": "2022-10-12T18:19:38.659543Z",
     "iopub.status.busy": "2022-10-12T18:19:38.658580Z",
     "iopub.status.idle": "2022-10-12T18:19:38.673334Z",
     "shell.execute_reply": "2022-10-12T18:19:38.672340Z",
     "shell.execute_reply.started": "2022-10-12T18:19:38.659494Z"
    }
   },
   "outputs": [
    {
     "name": "stdout",
     "output_type": "stream",
     "text": [
      "<class 'pandas.core.frame.DataFrame'>\n",
      "Int64Index: 768 entries, 0 to 767\n",
      "Data columns (total 9 columns):\n",
      " #   Column                    Non-Null Count  Dtype  \n",
      "---  ------                    --------------  -----  \n",
      " 0   Pregnancies               768 non-null    float64\n",
      " 1   Glucose                   768 non-null    float64\n",
      " 2   BloodPressure             768 non-null    float64\n",
      " 3   SkinThickness             768 non-null    float64\n",
      " 4   Insulin                   768 non-null    float64\n",
      " 5   BMI                       768 non-null    float64\n",
      " 6   DiabetesPedigreeFunction  768 non-null    float64\n",
      " 7   Age                       768 non-null    float64\n",
      " 8   Outcome                   768 non-null    int64  \n",
      "dtypes: float64(8), int64(1)\n",
      "memory usage: 60.0 KB\n"
     ]
    }
   ],
   "source": [
    "data.info()"
   ]
  },
  {
   "cell_type": "code",
   "execution_count": 44,
   "metadata": {
    "execution": {
     "iopub.execute_input": "2022-10-12T18:19:38.813641Z",
     "iopub.status.busy": "2022-10-12T18:19:38.813223Z",
     "iopub.status.idle": "2022-10-12T18:19:38.823825Z",
     "shell.execute_reply": "2022-10-12T18:19:38.822687Z",
     "shell.execute_reply.started": "2022-10-12T18:19:38.813605Z"
    }
   },
   "outputs": [
    {
     "data": {
      "text/plain": [
       "0    500\n",
       "1    268\n",
       "Name: Outcome, dtype: int64"
      ]
     },
     "execution_count": 44,
     "metadata": {},
     "output_type": "execute_result"
    }
   ],
   "source": [
    "data['Outcome'].value_counts()"
   ]
  },
  {
   "cell_type": "code",
   "execution_count": 45,
   "metadata": {
    "execution": {
     "iopub.execute_input": "2022-10-12T18:19:38.996826Z",
     "iopub.status.busy": "2022-10-12T18:19:38.995751Z",
     "iopub.status.idle": "2022-10-12T18:19:39.003286Z",
     "shell.execute_reply": "2022-10-12T18:19:39.002005Z",
     "shell.execute_reply.started": "2022-10-12T18:19:38.996784Z"
    }
   },
   "outputs": [],
   "source": [
    "y=data['Outcome']\n",
    "x=data.drop(['Outcome'],axis=1)"
   ]
  },
  {
   "cell_type": "code",
   "execution_count": 46,
   "metadata": {
    "execution": {
     "iopub.execute_input": "2022-10-12T18:19:39.251028Z",
     "iopub.status.busy": "2022-10-12T18:19:39.250621Z",
     "iopub.status.idle": "2022-10-12T18:19:39.258410Z",
     "shell.execute_reply": "2022-10-12T18:19:39.256846Z",
     "shell.execute_reply.started": "2022-10-12T18:19:39.250984Z"
    }
   },
   "outputs": [],
   "source": [
    "yn=data_norm['Outcome']\n",
    "xn=data_norm.drop(['Outcome'],axis=1)"
   ]
  },
  {
   "cell_type": "markdown",
   "metadata": {},
   "source": [
    "I am creating separate train and test sets for standardised and normalised data. the ones having n as suffix are normalised."
   ]
  },
  {
   "cell_type": "code",
   "execution_count": 47,
   "metadata": {
    "execution": {
     "iopub.execute_input": "2022-10-12T18:19:39.502827Z",
     "iopub.status.busy": "2022-10-12T18:19:39.502405Z",
     "iopub.status.idle": "2022-10-12T18:19:39.627626Z",
     "shell.execute_reply": "2022-10-12T18:19:39.625666Z",
     "shell.execute_reply.started": "2022-10-12T18:19:39.502791Z"
    }
   },
   "outputs": [
    {
     "name": "stdout",
     "output_type": "stream",
     "text": [
      "(652, 8)\n",
      "(116, 8)\n",
      "(652,)\n",
      "(116,)\n"
     ]
    }
   ],
   "source": [
    "from sklearn.model_selection import train_test_split\n",
    "xtrain,xtest,ytrain,ytest= train_test_split(x,y,test_size=0.15,stratify=y)\n",
    "print(xtrain.shape)\n",
    "print(xtest.shape)\n",
    "print(ytrain.shape)\n",
    "print(ytest.shape)"
   ]
  },
  {
   "cell_type": "code",
   "execution_count": 48,
   "metadata": {
    "execution": {
     "iopub.execute_input": "2022-10-12T18:19:39.780188Z",
     "iopub.status.busy": "2022-10-12T18:19:39.778929Z",
     "iopub.status.idle": "2022-10-12T18:19:39.790347Z",
     "shell.execute_reply": "2022-10-12T18:19:39.789096Z",
     "shell.execute_reply.started": "2022-10-12T18:19:39.780133Z"
    }
   },
   "outputs": [
    {
     "name": "stdout",
     "output_type": "stream",
     "text": [
      "(652, 8)\n",
      "(116, 8)\n",
      "(652,)\n",
      "(116,)\n"
     ]
    }
   ],
   "source": [
    "from sklearn.model_selection import train_test_split\n",
    "xntrain,xntest,yntrain,yntest= train_test_split(xn,yn,test_size=0.15,stratify=y)\n",
    "print(xntrain.shape)\n",
    "print(xntest.shape)\n",
    "print(yntrain.shape)\n",
    "print(yntest.shape)"
   ]
  },
  {
   "cell_type": "code",
   "execution_count": 49,
   "metadata": {
    "execution": {
     "iopub.execute_input": "2022-10-12T18:19:39.823954Z",
     "iopub.status.busy": "2022-10-12T18:19:39.823542Z",
     "iopub.status.idle": "2022-10-12T18:19:39.920486Z",
     "shell.execute_reply": "2022-10-12T18:19:39.919302Z",
     "shell.execute_reply.started": "2022-10-12T18:19:39.823921Z"
    }
   },
   "outputs": [
    {
     "data": {
      "text/plain": [
       "SVC(gamma=8)"
      ]
     },
     "execution_count": 49,
     "metadata": {},
     "output_type": "execute_result"
    }
   ],
   "source": [
    "from sklearn.svm import SVC\n",
    "svm_model= SVC(kernel='rbf',gamma=8)\n",
    "svm_model.fit(xntrain,yntrain)"
   ]
  },
  {
   "cell_type": "code",
   "execution_count": 50,
   "metadata": {
    "execution": {
     "iopub.execute_input": "2022-10-12T18:19:39.965772Z",
     "iopub.status.busy": "2022-10-12T18:19:39.965335Z",
     "iopub.status.idle": "2022-10-12T18:19:40.049302Z",
     "shell.execute_reply": "2022-10-12T18:19:40.048088Z",
     "shell.execute_reply.started": "2022-10-12T18:19:39.965736Z"
    }
   },
   "outputs": [
    {
     "name": "stdout",
     "output_type": "stream",
     "text": [
      "Training confusion matrix\n",
      "[[398  26]\n",
      " [ 71 157]]\n",
      "validation confusion matrix\n",
      "[[61 15]\n",
      " [17 23]]\n",
      "              precision    recall  f1-score   support\n",
      "\n",
      "           0       0.64      0.66      0.65        76\n",
      "           1       0.32      0.30      0.31        40\n",
      "\n",
      "    accuracy                           0.53       116\n",
      "   macro avg       0.48      0.48      0.48       116\n",
      "weighted avg       0.53      0.53      0.53       116\n",
      "\n",
      "training accuracy = 85.12269938650306\n",
      "testing accuracy = 72.41379310344827\n"
     ]
    }
   ],
   "source": [
    "from sklearn.metrics import accuracy_score, confusion_matrix, classification_report\n",
    "predictions= svm_model.predict(xntrain)\n",
    "percentage=svm_model.score(xntrain,yntrain)\n",
    "res=confusion_matrix(yntrain,predictions)\n",
    "print(\"Training confusion matrix\")\n",
    "print(res)\n",
    "predictions= svm_model.predict(xntest)\n",
    "percentage=svm_model.score(xntest,yntest)\n",
    "res=confusion_matrix(yntest,predictions)\n",
    "print(\"validation confusion matrix\")\n",
    "print(res)\n",
    "print(classification_report(ytest, predictions))\n",
    "# check the accuracy on the training set\n",
    "print('training accuracy = '+str(svm_model.score(xntrain, yntrain)*100))\n",
    "print('testing accuracy = '+str(svm_model.score(xntest, yntest)*100))"
   ]
  },
  {
   "cell_type": "markdown",
   "metadata": {},
   "source": [
    "I trained the SVM without feature scaling and with standardisation. It produced test acc of 55% and 62% for no feature scaling and with standardisation. Hence normalisation is good for distance based algorithms like SVM."
   ]
  },
  {
   "cell_type": "markdown",
   "metadata": {},
   "source": [
    "For the DL part, I am considering ANN, comprising of 2 layers of 256 neurons as hidden layers. Considering more neurons and layers resulted in overfitting. Hence i limited with this hyperparameters. It was compiled using adam optimiser and crossentropy loss function."
   ]
  },
  {
   "cell_type": "code",
   "execution_count": 51,
   "metadata": {
    "execution": {
     "iopub.execute_input": "2022-10-12T18:19:40.480123Z",
     "iopub.status.busy": "2022-10-12T18:19:40.479408Z",
     "iopub.status.idle": "2022-10-12T18:19:46.866684Z",
     "shell.execute_reply": "2022-10-12T18:19:46.865351Z",
     "shell.execute_reply.started": "2022-10-12T18:19:40.480085Z"
    }
   },
   "outputs": [
    {
     "name": "stdout",
     "output_type": "stream",
     "text": [
      "Model: \"sequential_1\"\n",
      "_________________________________________________________________\n",
      " Layer (type)                Output Shape              Param #   \n",
      "=================================================================\n",
      " dense_3 (Dense)             (None, 256)               2304      \n",
      "                                                                 \n",
      " dense_4 (Dense)             (None, 256)               65792     \n",
      "                                                                 \n",
      " dense_5 (Dense)             (None, 1)                 257       \n",
      "                                                                 \n",
      "=================================================================\n",
      "Total params: 68,353\n",
      "Trainable params: 68,353\n",
      "Non-trainable params: 0\n",
      "_________________________________________________________________\n"
     ]
    }
   ],
   "source": [
    "import tensorflow as tf\n",
    "from tensorflow.keras import Sequential\n",
    "from tensorflow.keras.layers import Dense, Dropout\n",
    "dl_model = Sequential() \n",
    "\n",
    "dl_model.add(Dense(256,  activation = 'relu' ,input_shape=([8]))) #input layer\n",
    "dl_model.add(Dense(256,  activation = 'relu'))\n",
    "dl_model.add(Dense(1,activation = 'sigmoid'))\n",
    "dl_model.summary()\n",
    "dl_model.compile(optimizer = 'adam' , loss = 'binary_crossentropy' ,metrics = ['accuracy','Precision','Recall','AUC'])"
   ]
  },
  {
   "cell_type": "code",
   "execution_count": 52,
   "metadata": {
    "execution": {
     "iopub.execute_input": "2022-10-12T18:19:46.869662Z",
     "iopub.status.busy": "2022-10-12T18:19:46.869211Z",
     "iopub.status.idle": "2022-10-12T18:20:09.843666Z",
     "shell.execute_reply": "2022-10-12T18:20:09.842553Z",
     "shell.execute_reply.started": "2022-10-12T18:19:46.869617Z"
    }
   },
   "outputs": [
    {
     "name": "stdout",
     "output_type": "stream",
     "text": [
      "Epoch 1/50\n",
      "200/200 [==============================] - 2s 5ms/step - loss: 0.5013 - accuracy: 0.7675 - precision: 0.7085 - recall: 0.5663 - auc: 0.8127 - val_loss: 0.5039 - val_accuracy: 0.7500 - val_precision: 0.6341 - val_recall: 0.6500 - val_auc: 0.8238\n",
      "Epoch 2/50\n",
      "200/200 [==============================] - 1s 3ms/step - loss: 0.4395 - accuracy: 0.7825 - precision: 0.6971 - recall: 0.6245 - auc: 0.8537 - val_loss: 0.5147 - val_accuracy: 0.7328 - val_precision: 0.6047 - val_recall: 0.6500 - val_auc: 0.8313\n",
      "Epoch 3/50\n",
      "200/200 [==============================] - 1s 3ms/step - loss: 0.4314 - accuracy: 0.7975 - precision: 0.7490 - recall: 0.6724 - auc: 0.8704 - val_loss: 0.5534 - val_accuracy: 0.7414 - val_precision: 0.6190 - val_recall: 0.6500 - val_auc: 0.8158\n",
      "Epoch 4/50\n",
      "200/200 [==============================] - 1s 3ms/step - loss: 0.4451 - accuracy: 0.7912 - precision: 0.7231 - recall: 0.6364 - auc: 0.8557 - val_loss: 0.5348 - val_accuracy: 0.7672 - val_precision: 0.7097 - val_recall: 0.5500 - val_auc: 0.8248\n",
      "Epoch 5/50\n",
      "200/200 [==============================] - 1s 3ms/step - loss: 0.4212 - accuracy: 0.8100 - precision: 0.7589 - recall: 0.6784 - auc: 0.8724 - val_loss: 0.5198 - val_accuracy: 0.7241 - val_precision: 0.5952 - val_recall: 0.6250 - val_auc: 0.8184\n",
      "Epoch 6/50\n",
      "200/200 [==============================] - 1s 3ms/step - loss: 0.4050 - accuracy: 0.7987 - precision: 0.7280 - recall: 0.6618 - auc: 0.8795 - val_loss: 0.5525 - val_accuracy: 0.7586 - val_precision: 0.6875 - val_recall: 0.5500 - val_auc: 0.8109\n",
      "Epoch 7/50\n",
      "200/200 [==============================] - 1s 3ms/step - loss: 0.3948 - accuracy: 0.8225 - precision: 0.7711 - recall: 0.6931 - auc: 0.8882 - val_loss: 0.5422 - val_accuracy: 0.7328 - val_precision: 0.6154 - val_recall: 0.6000 - val_auc: 0.8252\n",
      "Epoch 8/50\n",
      "200/200 [==============================] - 1s 3ms/step - loss: 0.3922 - accuracy: 0.8175 - precision: 0.7649 - recall: 0.6882 - auc: 0.8895 - val_loss: 0.5557 - val_accuracy: 0.7241 - val_precision: 0.6000 - val_recall: 0.6000 - val_auc: 0.8245\n",
      "Epoch 9/50\n",
      "200/200 [==============================] - 1s 3ms/step - loss: 0.3753 - accuracy: 0.8313 - precision: 0.7918 - recall: 0.7295 - auc: 0.9025 - val_loss: 0.5470 - val_accuracy: 0.7241 - val_precision: 0.6053 - val_recall: 0.5750 - val_auc: 0.8304\n",
      "Epoch 10/50\n",
      "200/200 [==============================] - 1s 3ms/step - loss: 0.3502 - accuracy: 0.8338 - precision: 0.7880 - recall: 0.7112 - auc: 0.9128 - val_loss: 0.5530 - val_accuracy: 0.7759 - val_precision: 0.6458 - val_recall: 0.7750 - val_auc: 0.8316\n",
      "Epoch 11/50\n",
      "200/200 [==============================] - 1s 3ms/step - loss: 0.3667 - accuracy: 0.8388 - precision: 0.7857 - recall: 0.7253 - auc: 0.9025 - val_loss: 0.5718 - val_accuracy: 0.7155 - val_precision: 0.5946 - val_recall: 0.5500 - val_auc: 0.8087\n",
      "Epoch 12/50\n",
      "200/200 [==============================] - 1s 3ms/step - loss: 0.3448 - accuracy: 0.8525 - precision: 0.8268 - recall: 0.7394 - auc: 0.9188 - val_loss: 0.5889 - val_accuracy: 0.7241 - val_precision: 0.5909 - val_recall: 0.6500 - val_auc: 0.8163\n",
      "Epoch 13/50\n",
      "200/200 [==============================] - 1s 3ms/step - loss: 0.3237 - accuracy: 0.8650 - precision: 0.8314 - recall: 0.7722 - auc: 0.9272 - val_loss: 0.7071 - val_accuracy: 0.7241 - val_precision: 0.5833 - val_recall: 0.7000 - val_auc: 0.8090\n",
      "Epoch 14/50\n",
      "200/200 [==============================] - 1s 3ms/step - loss: 0.3170 - accuracy: 0.8625 - precision: 0.8235 - recall: 0.7636 - auc: 0.9305 - val_loss: 0.6804 - val_accuracy: 0.7241 - val_precision: 0.5952 - val_recall: 0.6250 - val_auc: 0.8039\n",
      "Epoch 15/50\n",
      "200/200 [==============================] - 1s 3ms/step - loss: 0.3195 - accuracy: 0.8487 - precision: 0.8135 - recall: 0.7348 - auc: 0.9284 - val_loss: 0.6625 - val_accuracy: 0.6983 - val_precision: 0.5581 - val_recall: 0.6000 - val_auc: 0.7998\n",
      "Epoch 16/50\n",
      "200/200 [==============================] - 1s 3ms/step - loss: 0.2901 - accuracy: 0.8712 - precision: 0.8453 - recall: 0.7832 - auc: 0.9435 - val_loss: 0.6984 - val_accuracy: 0.7586 - val_precision: 0.6429 - val_recall: 0.6750 - val_auc: 0.8041\n",
      "Epoch 17/50\n",
      "200/200 [==============================] - 1s 3ms/step - loss: 0.2540 - accuracy: 0.8913 - precision: 0.8617 - recall: 0.8074 - auc: 0.9567 - val_loss: 0.7270 - val_accuracy: 0.7759 - val_precision: 0.6944 - val_recall: 0.6250 - val_auc: 0.8232\n",
      "Epoch 18/50\n",
      "200/200 [==============================] - 1s 3ms/step - loss: 0.3008 - accuracy: 0.8612 - precision: 0.8365 - recall: 0.7639 - auc: 0.9379 - val_loss: 0.7447 - val_accuracy: 0.7241 - val_precision: 0.5952 - val_recall: 0.6250 - val_auc: 0.7957\n",
      "Epoch 19/50\n",
      "200/200 [==============================] - 1s 3ms/step - loss: 0.2490 - accuracy: 0.9000 - precision: 0.8881 - recall: 0.8264 - auc: 0.9595 - val_loss: 0.7992 - val_accuracy: 0.7414 - val_precision: 0.6136 - val_recall: 0.6750 - val_auc: 0.7868\n",
      "Epoch 20/50\n",
      "200/200 [==============================] - 1s 3ms/step - loss: 0.2240 - accuracy: 0.9112 - precision: 0.8794 - recall: 0.8496 - auc: 0.9666 - val_loss: 0.7976 - val_accuracy: 0.7414 - val_precision: 0.6136 - val_recall: 0.6750 - val_auc: 0.7854\n",
      "Epoch 21/50\n",
      "200/200 [==============================] - 1s 3ms/step - loss: 0.2484 - accuracy: 0.8838 - precision: 0.8677 - recall: 0.7908 - auc: 0.9574 - val_loss: 0.8426 - val_accuracy: 0.6983 - val_precision: 0.5556 - val_recall: 0.6250 - val_auc: 0.7725\n",
      "Epoch 22/50\n",
      "200/200 [==============================] - 1s 3ms/step - loss: 0.2178 - accuracy: 0.9125 - precision: 0.8901 - recall: 0.8587 - auc: 0.9703 - val_loss: 0.8988 - val_accuracy: 0.7069 - val_precision: 0.5750 - val_recall: 0.5750 - val_auc: 0.7834\n",
      "Epoch 23/50\n",
      "200/200 [==============================] - 1s 3ms/step - loss: 0.2041 - accuracy: 0.9050 - precision: 0.8791 - recall: 0.8481 - auc: 0.9730 - val_loss: 0.8666 - val_accuracy: 0.6897 - val_precision: 0.5400 - val_recall: 0.6750 - val_auc: 0.7965\n",
      "Epoch 24/50\n",
      "200/200 [==============================] - 1s 3ms/step - loss: 0.1987 - accuracy: 0.9175 - precision: 0.8996 - recall: 0.8535 - auc: 0.9740 - val_loss: 0.9899 - val_accuracy: 0.6897 - val_precision: 0.5526 - val_recall: 0.5250 - val_auc: 0.7558\n",
      "Epoch 25/50\n",
      "200/200 [==============================] - 1s 3ms/step - loss: 0.1816 - accuracy: 0.9287 - precision: 0.9205 - recall: 0.8710 - auc: 0.9791 - val_loss: 0.9364 - val_accuracy: 0.7328 - val_precision: 0.6000 - val_recall: 0.6750 - val_auc: 0.7998\n",
      "Epoch 26/50\n",
      "200/200 [==============================] - 1s 3ms/step - loss: 0.1660 - accuracy: 0.9287 - precision: 0.9211 - recall: 0.8719 - auc: 0.9842 - val_loss: 1.0396 - val_accuracy: 0.6983 - val_precision: 0.5532 - val_recall: 0.6500 - val_auc: 0.7743\n",
      "Epoch 27/50\n",
      "200/200 [==============================] - 1s 3ms/step - loss: 0.1779 - accuracy: 0.9175 - precision: 0.8978 - recall: 0.8662 - auc: 0.9800 - val_loss: 1.0642 - val_accuracy: 0.6983 - val_precision: 0.5556 - val_recall: 0.6250 - val_auc: 0.7775\n",
      "Epoch 28/50\n",
      "200/200 [==============================] - 1s 3ms/step - loss: 0.1646 - accuracy: 0.9300 - precision: 0.9194 - recall: 0.8807 - auc: 0.9830 - val_loss: 1.0492 - val_accuracy: 0.6897 - val_precision: 0.5455 - val_recall: 0.6000 - val_auc: 0.7760\n",
      "Epoch 29/50\n",
      "200/200 [==============================] - 1s 3ms/step - loss: 0.1354 - accuracy: 0.9450 - precision: 0.9427 - recall: 0.8949 - auc: 0.9888 - val_loss: 1.1890 - val_accuracy: 0.7069 - val_precision: 0.5625 - val_recall: 0.6750 - val_auc: 0.7752\n",
      "Epoch 30/50\n",
      "200/200 [==============================] - 1s 3ms/step - loss: 0.1335 - accuracy: 0.9538 - precision: 0.9478 - recall: 0.9170 - auc: 0.9904 - val_loss: 1.0882 - val_accuracy: 0.6810 - val_precision: 0.5319 - val_recall: 0.6250 - val_auc: 0.7613\n",
      "Epoch 31/50\n",
      "200/200 [==============================] - 1s 3ms/step - loss: 0.1257 - accuracy: 0.9550 - precision: 0.9552 - recall: 0.9143 - auc: 0.9918 - val_loss: 1.1601 - val_accuracy: 0.7069 - val_precision: 0.5750 - val_recall: 0.5750 - val_auc: 0.7732\n",
      "Epoch 32/50\n",
      "200/200 [==============================] - 1s 3ms/step - loss: 0.1215 - accuracy: 0.9550 - precision: 0.9478 - recall: 0.9203 - auc: 0.9913 - val_loss: 1.1916 - val_accuracy: 0.6810 - val_precision: 0.5366 - val_recall: 0.5500 - val_auc: 0.7630\n"
     ]
    },
    {
     "name": "stdout",
     "output_type": "stream",
     "text": [
      "Epoch 33/50\n",
      "200/200 [==============================] - 1s 3ms/step - loss: 0.1109 - accuracy: 0.9650 - precision: 0.9638 - recall: 0.9366 - auc: 0.9943 - val_loss: 1.3130 - val_accuracy: 0.6810 - val_precision: 0.5319 - val_recall: 0.6250 - val_auc: 0.7676\n",
      "Epoch 34/50\n",
      "200/200 [==============================] - 1s 3ms/step - loss: 0.0912 - accuracy: 0.9688 - precision: 0.9645 - recall: 0.9477 - auc: 0.9962 - val_loss: 1.3220 - val_accuracy: 0.6897 - val_precision: 0.5417 - val_recall: 0.6500 - val_auc: 0.7715\n",
      "Epoch 35/50\n",
      "200/200 [==============================] - 1s 3ms/step - loss: 0.1051 - accuracy: 0.9663 - precision: 0.9659 - recall: 0.9341 - auc: 0.9941 - val_loss: 1.3466 - val_accuracy: 0.6897 - val_precision: 0.5417 - val_recall: 0.6500 - val_auc: 0.7538\n",
      "Epoch 36/50\n",
      "200/200 [==============================] - 1s 3ms/step - loss: 0.0827 - accuracy: 0.9725 - precision: 0.9707 - recall: 0.9498 - auc: 0.9972 - val_loss: 1.4820 - val_accuracy: 0.6724 - val_precision: 0.5217 - val_recall: 0.6000 - val_auc: 0.7562\n",
      "Epoch 37/50\n",
      "200/200 [==============================] - 1s 3ms/step - loss: 0.0810 - accuracy: 0.9675 - precision: 0.9580 - recall: 0.9514 - auc: 0.9968 - val_loss: 1.5179 - val_accuracy: 0.6897 - val_precision: 0.5400 - val_recall: 0.6750 - val_auc: 0.7567\n",
      "Epoch 38/50\n",
      "200/200 [==============================] - 1s 3ms/step - loss: 0.0814 - accuracy: 0.9700 - precision: 0.9656 - recall: 0.9440 - auc: 0.9966 - val_loss: 1.5409 - val_accuracy: 0.6897 - val_precision: 0.5455 - val_recall: 0.6000 - val_auc: 0.7513\n",
      "Epoch 39/50\n",
      "200/200 [==============================] - 1s 3ms/step - loss: 0.0748 - accuracy: 0.9725 - precision: 0.9679 - recall: 0.9542 - auc: 0.9975 - val_loss: 1.6030 - val_accuracy: 0.7155 - val_precision: 0.5946 - val_recall: 0.5500 - val_auc: 0.7355\n",
      "Epoch 40/50\n",
      "200/200 [==============================] - 1s 3ms/step - loss: 0.0863 - accuracy: 0.9737 - precision: 0.9706 - recall: 0.9531 - auc: 0.9957 - val_loss: 1.5941 - val_accuracy: 0.6724 - val_precision: 0.5208 - val_recall: 0.6250 - val_auc: 0.7451\n",
      "Epoch 41/50\n",
      "148/200 [=====================>........] - ETA: 0s - loss: 0.0755 - accuracy: 0.9780 - precision: 0.9760 - recall: 0.9621 - auc: 0.9962WARNING:tensorflow:Your input ran out of data; interrupting training. Make sure that your dataset or generator can generate at least `steps_per_epoch * epochs` batches (in this case, 10000 batches). You may need to use the repeat() function when building your dataset.\n",
      "200/200 [==============================] - 1s 3ms/step - loss: 0.0746 - accuracy: 0.9783 - precision: 0.9761 - recall: 0.9623 - auc: 0.9963 - val_loss: 1.6525 - val_accuracy: 0.7069 - val_precision: 0.5714 - val_recall: 0.6000 - val_auc: 0.7360\n"
     ]
    }
   ],
   "source": [
    "num_epochs = 50\n",
    "history = dl_model.fit(xtrain ,\n",
    "                    ytrain ,\n",
    "                    epochs= num_epochs ,\n",
    "                    steps_per_epoch=200,\n",
    "                    validation_data=(xtest ,ytest))"
   ]
  },
  {
   "cell_type": "code",
   "execution_count": 53,
   "metadata": {
    "execution": {
     "iopub.execute_input": "2022-10-12T18:20:09.845617Z",
     "iopub.status.busy": "2022-10-12T18:20:09.845289Z",
     "iopub.status.idle": "2022-10-12T18:20:09.959531Z",
     "shell.execute_reply": "2022-10-12T18:20:09.958533Z",
     "shell.execute_reply.started": "2022-10-12T18:20:09.845587Z"
    }
   },
   "outputs": [
    {
     "name": "stdout",
     "output_type": "stream",
     "text": [
      "21/21 [==============================] - 0s 3ms/step - loss: 0.1064 - accuracy: 0.9663 - precision: 0.9858 - recall: 0.9167 - auc: 0.9920\n"
     ]
    },
    {
     "data": {
      "text/plain": [
       "[0.10639087855815887,\n",
       " 0.9662576913833618,\n",
       " 0.9858490824699402,\n",
       " 0.9166666865348816,\n",
       " 0.9920090436935425]"
      ]
     },
     "execution_count": 53,
     "metadata": {},
     "output_type": "execute_result"
    }
   ],
   "source": [
    "dl_model.evaluate(xtrain,ytrain)"
   ]
  },
  {
   "cell_type": "code",
   "execution_count": 54,
   "metadata": {
    "execution": {
     "iopub.execute_input": "2022-10-12T18:20:09.962850Z",
     "iopub.status.busy": "2022-10-12T18:20:09.962520Z",
     "iopub.status.idle": "2022-10-12T18:20:10.046771Z",
     "shell.execute_reply": "2022-10-12T18:20:10.045974Z",
     "shell.execute_reply.started": "2022-10-12T18:20:09.962818Z"
    }
   },
   "outputs": [
    {
     "name": "stdout",
     "output_type": "stream",
     "text": [
      "4/4 [==============================] - 0s 7ms/step - loss: 1.6525 - accuracy: 0.7069 - precision: 0.5714 - recall: 0.6000 - auc: 0.7360\n"
     ]
    },
    {
     "data": {
      "text/plain": [
       "[1.6524665355682373,\n",
       " 0.7068965435028076,\n",
       " 0.5714285969734192,\n",
       " 0.6000000238418579,\n",
       " 0.7360197901725769]"
      ]
     },
     "execution_count": 54,
     "metadata": {},
     "output_type": "execute_result"
    }
   ],
   "source": [
    "dl_model.evaluate(xtest,ytest)"
   ]
  },
  {
   "cell_type": "markdown",
   "metadata": {},
   "source": [
    "As you can see, the ANN produced 68% test accuracy which is way less than SVM. Hence we can say that the ML algorithm produced well than that of DL algorithm. Can we stop with this conclusion or are we missing something??"
   ]
  },
  {
   "cell_type": "code",
   "execution_count": 55,
   "metadata": {
    "execution": {
     "iopub.execute_input": "2022-10-12T18:20:10.048297Z",
     "iopub.status.busy": "2022-10-12T18:20:10.047966Z",
     "iopub.status.idle": "2022-10-12T18:20:10.057473Z",
     "shell.execute_reply": "2022-10-12T18:20:10.055946Z",
     "shell.execute_reply.started": "2022-10-12T18:20:10.048268Z"
    }
   },
   "outputs": [
    {
     "name": "stdout",
     "output_type": "stream",
     "text": [
      "0    500\n",
      "1    268\n",
      "Name: Outcome, dtype: int64\n"
     ]
    }
   ],
   "source": [
    "print(data['Outcome'].value_counts())\n",
    "df_class_0 = data[data['Outcome'] == 0]\n",
    "df_class_1 = data[data['Outcome'] == 1]"
   ]
  },
  {
   "cell_type": "markdown",
   "metadata": {},
   "source": [
    "As you can see, there is class imbalance, the amount of diabetes negative is twice than that of diabetes positive. In this scenario, we cant compare the performance of algorithms based on accuracy. So to overcome the class imbalance I oversampled the minority class to the samples of majority class (500). So the total data consits of 1000 samples with equal distribution. I repeated this process for the standardised and normalized datasets."
   ]
  },
  {
   "cell_type": "code",
   "execution_count": 56,
   "metadata": {
    "execution": {
     "iopub.execute_input": "2022-10-12T18:20:10.059208Z",
     "iopub.status.busy": "2022-10-12T18:20:10.058829Z",
     "iopub.status.idle": "2022-10-12T18:20:10.074125Z",
     "shell.execute_reply": "2022-10-12T18:20:10.073337Z",
     "shell.execute_reply.started": "2022-10-12T18:20:10.059178Z"
    }
   },
   "outputs": [
    {
     "name": "stdout",
     "output_type": "stream",
     "text": [
      "0.0    500\n",
      "1.0    268\n",
      "Name: Outcome, dtype: int64\n"
     ]
    }
   ],
   "source": [
    "print(data_norm['Outcome'].value_counts())\n",
    "df_n_class_0 = data_norm[data_norm['Outcome'] == 0]\n",
    "df_n_class_1 = data_norm[data_norm['Outcome'] == 1]"
   ]
  },
  {
   "cell_type": "code",
   "execution_count": 57,
   "metadata": {
    "execution": {
     "iopub.execute_input": "2022-10-12T18:20:10.075820Z",
     "iopub.status.busy": "2022-10-12T18:20:10.075453Z",
     "iopub.status.idle": "2022-10-12T18:20:10.094851Z",
     "shell.execute_reply": "2022-10-12T18:20:10.093682Z",
     "shell.execute_reply.started": "2022-10-12T18:20:10.075786Z"
    }
   },
   "outputs": [
    {
     "name": "stdout",
     "output_type": "stream",
     "text": [
      "<class 'pandas.core.frame.DataFrame'>\n",
      "Int64Index: 1000 entries, 1 to 663\n",
      "Data columns (total 9 columns):\n",
      " #   Column                    Non-Null Count  Dtype  \n",
      "---  ------                    --------------  -----  \n",
      " 0   Pregnancies               1000 non-null   float64\n",
      " 1   Glucose                   1000 non-null   float64\n",
      " 2   BloodPressure             1000 non-null   float64\n",
      " 3   SkinThickness             1000 non-null   float64\n",
      " 4   Insulin                   1000 non-null   float64\n",
      " 5   BMI                       1000 non-null   float64\n",
      " 6   DiabetesPedigreeFunction  1000 non-null   float64\n",
      " 7   Age                       1000 non-null   float64\n",
      " 8   Outcome                   1000 non-null   int64  \n",
      "dtypes: float64(8), int64(1)\n",
      "memory usage: 78.1 KB\n"
     ]
    }
   ],
   "source": [
    "df_class_1_over = df_class_1.sample(500, replace=True)\n",
    "df_test_over = pd.concat([df_class_0, df_class_1_over], axis=0)\n",
    "df_test_over.info()"
   ]
  },
  {
   "cell_type": "code",
   "execution_count": 58,
   "metadata": {
    "execution": {
     "iopub.execute_input": "2022-10-12T18:20:10.097152Z",
     "iopub.status.busy": "2022-10-12T18:20:10.096450Z",
     "iopub.status.idle": "2022-10-12T18:20:10.111487Z",
     "shell.execute_reply": "2022-10-12T18:20:10.110419Z",
     "shell.execute_reply.started": "2022-10-12T18:20:10.097106Z"
    }
   },
   "outputs": [
    {
     "name": "stdout",
     "output_type": "stream",
     "text": [
      "<class 'pandas.core.frame.DataFrame'>\n",
      "Int64Index: 1000 entries, 1 to 732\n",
      "Data columns (total 9 columns):\n",
      " #   Column                    Non-Null Count  Dtype  \n",
      "---  ------                    --------------  -----  \n",
      " 0   Pregnancies               1000 non-null   float64\n",
      " 1   Glucose                   1000 non-null   float64\n",
      " 2   BloodPressure             1000 non-null   float64\n",
      " 3   SkinThickness             1000 non-null   float64\n",
      " 4   Insulin                   1000 non-null   float64\n",
      " 5   BMI                       1000 non-null   float64\n",
      " 6   DiabetesPedigreeFunction  1000 non-null   float64\n",
      " 7   Age                       1000 non-null   float64\n",
      " 8   Outcome                   1000 non-null   float64\n",
      "dtypes: float64(9)\n",
      "memory usage: 78.1 KB\n"
     ]
    }
   ],
   "source": [
    "df_n_class_1_over = df_n_class_1.sample(500, replace=True)\n",
    "df_test_n_over = pd.concat([df_n_class_0, df_n_class_1_over], axis=0)\n",
    "df_test_n_over.info()"
   ]
  },
  {
   "cell_type": "code",
   "execution_count": 59,
   "metadata": {
    "execution": {
     "iopub.execute_input": "2022-10-12T18:20:10.113365Z",
     "iopub.status.busy": "2022-10-12T18:20:10.112942Z",
     "iopub.status.idle": "2022-10-12T18:20:10.123864Z",
     "shell.execute_reply": "2022-10-12T18:20:10.122833Z",
     "shell.execute_reply.started": "2022-10-12T18:20:10.113334Z"
    }
   },
   "outputs": [],
   "source": [
    "y1=df_test_over['Outcome']\n",
    "df_test_over=df_test_over.drop(['Outcome'],axis=1)\n",
    "X1=df_test_over"
   ]
  },
  {
   "cell_type": "code",
   "execution_count": 60,
   "metadata": {
    "execution": {
     "iopub.execute_input": "2022-10-12T18:20:10.127500Z",
     "iopub.status.busy": "2022-10-12T18:20:10.127121Z",
     "iopub.status.idle": "2022-10-12T18:20:10.138298Z",
     "shell.execute_reply": "2022-10-12T18:20:10.137309Z",
     "shell.execute_reply.started": "2022-10-12T18:20:10.127470Z"
    }
   },
   "outputs": [],
   "source": [
    "y1n=df_test_n_over['Outcome']\n",
    "df_test_n_over=df_test_n_over.drop(['Outcome'],axis=1)\n",
    "X1n=df_test_n_over"
   ]
  },
  {
   "cell_type": "markdown",
   "metadata": {},
   "source": [
    "The rest of the parameters are the same. This includes the train test split ratio and the algorithm parameters. Now the SVM and ANN are trained using the upsampled datasets. The same as before, normalized dataset for SVM and standardized dataset for ANN. "
   ]
  },
  {
   "cell_type": "code",
   "execution_count": 61,
   "metadata": {
    "execution": {
     "iopub.execute_input": "2022-10-12T18:20:10.140319Z",
     "iopub.status.busy": "2022-10-12T18:20:10.139493Z",
     "iopub.status.idle": "2022-10-12T18:20:10.154804Z",
     "shell.execute_reply": "2022-10-12T18:20:10.153086Z",
     "shell.execute_reply.started": "2022-10-12T18:20:10.140286Z"
    }
   },
   "outputs": [
    {
     "name": "stdout",
     "output_type": "stream",
     "text": [
      "training data shape is :(800, 8).\n",
      "training label shape is :(800,).\n",
      "testing data shape is :(200, 8).\n",
      "testing label shape is :(200,).\n"
     ]
    }
   ],
   "source": [
    "from sklearn.model_selection import train_test_split\n",
    "\n",
    "X1_s_train,X1_s_test ,y1_s_train, y1_s_test = train_test_split(X1,y1,\n",
    "                                                   test_size=0.2,\n",
    "                                                   random_state=0,\n",
    "                                                  shuffle = True,\n",
    "                                                  stratify = y1)\n",
    "\n",
    "print('training data shape is :{}.'.format(X1_s_train.shape))\n",
    "print('training label shape is :{}.'.format(y1_s_train.shape))\n",
    "print('testing data shape is :{}.'.format(X1_s_test.shape))\n",
    "print('testing label shape is :{}.'.format(y1_s_test.shape))"
   ]
  },
  {
   "cell_type": "code",
   "execution_count": 62,
   "metadata": {
    "execution": {
     "iopub.execute_input": "2022-10-12T18:20:10.157204Z",
     "iopub.status.busy": "2022-10-12T18:20:10.156378Z",
     "iopub.status.idle": "2022-10-12T18:20:10.168608Z",
     "shell.execute_reply": "2022-10-12T18:20:10.167484Z",
     "shell.execute_reply.started": "2022-10-12T18:20:10.157169Z"
    }
   },
   "outputs": [
    {
     "name": "stdout",
     "output_type": "stream",
     "text": [
      "training data shape is :(800, 8).\n",
      "training label shape is :(800,).\n",
      "testing data shape is :(200, 8).\n",
      "testing label shape is :(200,).\n"
     ]
    }
   ],
   "source": [
    "from sklearn.model_selection import train_test_split\n",
    "\n",
    "X1_s_n_train,X1_s_n_test ,y1_s_n_train, y1_s_n_test = train_test_split(X1n,y1n,\n",
    "                                                   test_size=0.2,\n",
    "                                                   random_state=0,\n",
    "                                                  shuffle = True,\n",
    "                                                  stratify = y1n)\n",
    "\n",
    "print('training data shape is :{}.'.format(X1_s_n_train.shape))\n",
    "print('training label shape is :{}.'.format(y1_s_n_train.shape))\n",
    "print('testing data shape is :{}.'.format(X1_s_n_test.shape))\n",
    "print('testing label shape is :{}.'.format(y1_s_n_test.shape))"
   ]
  },
  {
   "cell_type": "code",
   "execution_count": 63,
   "metadata": {
    "execution": {
     "iopub.execute_input": "2022-10-12T18:20:10.170653Z",
     "iopub.status.busy": "2022-10-12T18:20:10.170277Z",
     "iopub.status.idle": "2022-10-12T18:20:10.205112Z",
     "shell.execute_reply": "2022-10-12T18:20:10.203779Z",
     "shell.execute_reply.started": "2022-10-12T18:20:10.170622Z"
    }
   },
   "outputs": [
    {
     "data": {
      "text/plain": [
       "SVC(gamma=8)"
      ]
     },
     "execution_count": 63,
     "metadata": {},
     "output_type": "execute_result"
    }
   ],
   "source": [
    "from sklearn.svm import SVC\n",
    "svc_s_model = SVC(kernel='rbf',gamma=8)\n",
    "svc_s_model.fit(X1_s_n_train, y1_s_n_train)"
   ]
  },
  {
   "cell_type": "code",
   "execution_count": 64,
   "metadata": {
    "execution": {
     "iopub.execute_input": "2022-10-12T18:20:10.207538Z",
     "iopub.status.busy": "2022-10-12T18:20:10.207060Z",
     "iopub.status.idle": "2022-10-12T18:20:10.322659Z",
     "shell.execute_reply": "2022-10-12T18:20:10.321389Z",
     "shell.execute_reply.started": "2022-10-12T18:20:10.207494Z"
    }
   },
   "outputs": [
    {
     "name": "stdout",
     "output_type": "stream",
     "text": [
      "Training confusion matrix\n",
      "[[338  62]\n",
      " [ 52 348]]\n",
      "validation confusion matrix\n",
      "[[83 17]\n",
      " [18 82]]\n",
      "              precision    recall  f1-score   support\n",
      "\n",
      "         0.0       0.82      0.83      0.83       100\n",
      "         1.0       0.83      0.82      0.82       100\n",
      "\n",
      "    accuracy                           0.82       200\n",
      "   macro avg       0.83      0.82      0.82       200\n",
      "weighted avg       0.83      0.82      0.82       200\n",
      "\n",
      "training accuracy = 85.75\n",
      "testing accuracy = 82.5\n"
     ]
    }
   ],
   "source": [
    "from sklearn.metrics import accuracy_score, confusion_matrix, classification_report\n",
    "predictions= svc_s_model.predict(X1_s_n_train)\n",
    "percentage=svc_s_model.score(X1_s_n_train,y1_s_n_train)\n",
    "res=confusion_matrix(y1_s_n_train,predictions)\n",
    "print(\"Training confusion matrix\")\n",
    "print(res)\n",
    "predictions= svc_s_model.predict(X1_s_n_test)\n",
    "percentage=svc_s_model.score(X1_s_n_test,y1_s_n_test)\n",
    "res=confusion_matrix(y1_s_n_test,predictions)\n",
    "print(\"validation confusion matrix\")\n",
    "print(res)\n",
    "print(classification_report(y1_s_n_test, predictions))\n",
    "# check the accuracy on the training set\n",
    "print('training accuracy = '+str(svc_s_model.score(X1_s_n_train, y1_s_n_train)*100))\n",
    "print('testing accuracy = '+str(svc_s_model.score(X1_s_n_test, y1_s_n_test)*100))"
   ]
  },
  {
   "cell_type": "markdown",
   "metadata": {},
   "source": [
    "There isn't much change in the accuracy of the algorithm but there is huge improvement in the classification report before and after sampling, especially for the diabetes class. "
   ]
  },
  {
   "cell_type": "code",
   "execution_count": 65,
   "metadata": {
    "execution": {
     "iopub.execute_input": "2022-10-12T18:20:10.324202Z",
     "iopub.status.busy": "2022-10-12T18:20:10.323856Z",
     "iopub.status.idle": "2022-10-12T18:20:36.784314Z",
     "shell.execute_reply": "2022-10-12T18:20:36.783264Z",
     "shell.execute_reply.started": "2022-10-12T18:20:10.324171Z"
    }
   },
   "outputs": [
    {
     "name": "stdout",
     "output_type": "stream",
     "text": [
      "Epoch 1/50\n",
      "200/200 [==============================] - 1s 3ms/step - loss: 0.3016 - accuracy: 0.9137 - precision: 0.9127 - recall: 0.9150 - auc: 0.9590 - val_loss: 0.2946 - val_accuracy: 0.9100 - val_precision: 0.8942 - val_recall: 0.9300 - val_auc: 0.9580\n",
      "Epoch 2/50\n",
      "200/200 [==============================] - 1s 3ms/step - loss: 0.1934 - accuracy: 0.9237 - precision: 0.9185 - recall: 0.9300 - auc: 0.9785 - val_loss: 0.1885 - val_accuracy: 0.9350 - val_precision: 0.9143 - val_recall: 0.9600 - val_auc: 0.9727\n",
      "Epoch 3/50\n",
      "200/200 [==============================] - 1s 3ms/step - loss: 0.1222 - accuracy: 0.9563 - precision: 0.9506 - recall: 0.9625 - auc: 0.9917 - val_loss: 0.1619 - val_accuracy: 0.9550 - val_precision: 0.9691 - val_recall: 0.9400 - val_auc: 0.9809\n",
      "Epoch 4/50\n",
      "200/200 [==============================] - 1s 3ms/step - loss: 0.0949 - accuracy: 0.9675 - precision: 0.9583 - recall: 0.9775 - auc: 0.9950 - val_loss: 0.1657 - val_accuracy: 0.9550 - val_precision: 0.9417 - val_recall: 0.9700 - val_auc: 0.9741\n",
      "Epoch 5/50\n",
      "200/200 [==============================] - 1s 3ms/step - loss: 0.0764 - accuracy: 0.9737 - precision: 0.9749 - recall: 0.9725 - auc: 0.9979 - val_loss: 0.1826 - val_accuracy: 0.9350 - val_precision: 0.9307 - val_recall: 0.9400 - val_auc: 0.9722\n",
      "Epoch 6/50\n",
      "200/200 [==============================] - 1s 3ms/step - loss: 0.0673 - accuracy: 0.9875 - precision: 0.9875 - recall: 0.9875 - auc: 0.9980 - val_loss: 0.1393 - val_accuracy: 0.9650 - val_precision: 0.9346 - val_recall: 1.0000 - val_auc: 0.9832\n",
      "Epoch 7/50\n",
      "200/200 [==============================] - 1s 3ms/step - loss: 0.0602 - accuracy: 0.9825 - precision: 0.9801 - recall: 0.9850 - auc: 0.9989 - val_loss: 0.1766 - val_accuracy: 0.9500 - val_precision: 0.9245 - val_recall: 0.9800 - val_auc: 0.9733\n",
      "Epoch 8/50\n",
      "200/200 [==============================] - 1s 3ms/step - loss: 0.0567 - accuracy: 0.9850 - precision: 0.9850 - recall: 0.9850 - auc: 0.9988 - val_loss: 0.3032 - val_accuracy: 0.9350 - val_precision: 0.8919 - val_recall: 0.9900 - val_auc: 0.9639\n",
      "Epoch 9/50\n",
      "200/200 [==============================] - 1s 3ms/step - loss: 0.0913 - accuracy: 0.9663 - precision: 0.9628 - recall: 0.9700 - auc: 0.9941 - val_loss: 0.1954 - val_accuracy: 0.9600 - val_precision: 0.9423 - val_recall: 0.9800 - val_auc: 0.9746\n",
      "Epoch 10/50\n",
      "200/200 [==============================] - 1s 3ms/step - loss: 0.0544 - accuracy: 0.9825 - precision: 0.9777 - recall: 0.9875 - auc: 0.9992 - val_loss: 0.2395 - val_accuracy: 0.9450 - val_precision: 0.9320 - val_recall: 0.9600 - val_auc: 0.9674\n",
      "Epoch 11/50\n",
      "200/200 [==============================] - 1s 3ms/step - loss: 0.0439 - accuracy: 0.9875 - precision: 0.9899 - recall: 0.9850 - auc: 0.9996 - val_loss: 0.1994 - val_accuracy: 0.9350 - val_precision: 0.9143 - val_recall: 0.9600 - val_auc: 0.9748\n",
      "Epoch 12/50\n",
      "200/200 [==============================] - 1s 3ms/step - loss: 0.0427 - accuracy: 0.9887 - precision: 0.9900 - recall: 0.9875 - auc: 0.9994 - val_loss: 0.2050 - val_accuracy: 0.9400 - val_precision: 0.9314 - val_recall: 0.9500 - val_auc: 0.9747\n",
      "Epoch 13/50\n",
      "200/200 [==============================] - 1s 3ms/step - loss: 0.0281 - accuracy: 0.9937 - precision: 0.9925 - recall: 0.9950 - auc: 0.9999 - val_loss: 0.1991 - val_accuracy: 0.9350 - val_precision: 0.9143 - val_recall: 0.9600 - val_auc: 0.9761\n",
      "Epoch 14/50\n",
      "200/200 [==============================] - 1s 3ms/step - loss: 0.0189 - accuracy: 0.9975 - precision: 0.9975 - recall: 0.9975 - auc: 1.0000 - val_loss: 0.1946 - val_accuracy: 0.9350 - val_precision: 0.9223 - val_recall: 0.9500 - val_auc: 0.9741\n",
      "Epoch 15/50\n",
      "200/200 [==============================] - 1s 3ms/step - loss: 0.0257 - accuracy: 0.9937 - precision: 0.9925 - recall: 0.9950 - auc: 0.9998 - val_loss: 0.2205 - val_accuracy: 0.9350 - val_precision: 0.9307 - val_recall: 0.9400 - val_auc: 0.9714\n",
      "Epoch 16/50\n",
      "200/200 [==============================] - 1s 3ms/step - loss: 0.0509 - accuracy: 0.9850 - precision: 0.9826 - recall: 0.9875 - auc: 0.9982 - val_loss: 0.2839 - val_accuracy: 0.9300 - val_precision: 0.9135 - val_recall: 0.9500 - val_auc: 0.9705\n",
      "Epoch 17/50\n",
      "200/200 [==============================] - 1s 3ms/step - loss: 0.0379 - accuracy: 0.9875 - precision: 0.9899 - recall: 0.9850 - auc: 0.9990 - val_loss: 0.2233 - val_accuracy: 0.9400 - val_precision: 0.9151 - val_recall: 0.9700 - val_auc: 0.9746\n",
      "Epoch 18/50\n",
      "200/200 [==============================] - 1s 3ms/step - loss: 0.0287 - accuracy: 0.9925 - precision: 0.9925 - recall: 0.9925 - auc: 0.9998 - val_loss: 0.2469 - val_accuracy: 0.9350 - val_precision: 0.9223 - val_recall: 0.9500 - val_auc: 0.9671\n",
      "Epoch 19/50\n",
      "200/200 [==============================] - 1s 3ms/step - loss: 0.0376 - accuracy: 0.9887 - precision: 0.9900 - recall: 0.9875 - auc: 0.9992 - val_loss: 0.2366 - val_accuracy: 0.9400 - val_precision: 0.9231 - val_recall: 0.9600 - val_auc: 0.9741\n",
      "Epoch 20/50\n",
      "200/200 [==============================] - 1s 3ms/step - loss: 0.0266 - accuracy: 0.9925 - precision: 0.9925 - recall: 0.9925 - auc: 0.9996 - val_loss: 0.2447 - val_accuracy: 0.9300 - val_precision: 0.9135 - val_recall: 0.9500 - val_auc: 0.9751\n",
      "Epoch 21/50\n",
      "200/200 [==============================] - 1s 3ms/step - loss: 0.0131 - accuracy: 0.9975 - precision: 0.9975 - recall: 0.9975 - auc: 1.0000 - val_loss: 0.2340 - val_accuracy: 0.9400 - val_precision: 0.9231 - val_recall: 0.9600 - val_auc: 0.9695\n",
      "Epoch 22/50\n",
      "200/200 [==============================] - 1s 3ms/step - loss: 0.0144 - accuracy: 0.9987 - precision: 0.9975 - recall: 1.0000 - auc: 1.0000 - val_loss: 0.2354 - val_accuracy: 0.9150 - val_precision: 0.9109 - val_recall: 0.9200 - val_auc: 0.9705\n",
      "Epoch 23/50\n",
      "200/200 [==============================] - 1s 3ms/step - loss: 0.0366 - accuracy: 0.9837 - precision: 0.9825 - recall: 0.9850 - auc: 0.9993 - val_loss: 0.3424 - val_accuracy: 0.9250 - val_precision: 0.8829 - val_recall: 0.9800 - val_auc: 0.9579\n",
      "Epoch 24/50\n",
      "200/200 [==============================] - 1s 3ms/step - loss: 0.0665 - accuracy: 0.9800 - precision: 0.9776 - recall: 0.9825 - auc: 0.9953 - val_loss: 0.2858 - val_accuracy: 0.9350 - val_precision: 0.9065 - val_recall: 0.9700 - val_auc: 0.9695\n",
      "Epoch 25/50\n",
      "200/200 [==============================] - 1s 3ms/step - loss: 0.0983 - accuracy: 0.9737 - precision: 0.9749 - recall: 0.9725 - auc: 0.9938 - val_loss: 0.3980 - val_accuracy: 0.9300 - val_precision: 0.9057 - val_recall: 0.9600 - val_auc: 0.9537\n",
      "Epoch 26/50\n",
      "200/200 [==============================] - 1s 3ms/step - loss: 0.0850 - accuracy: 0.9750 - precision: 0.9703 - recall: 0.9800 - auc: 0.9940 - val_loss: 0.2721 - val_accuracy: 0.9300 - val_precision: 0.9135 - val_recall: 0.9500 - val_auc: 0.9686\n",
      "Epoch 27/50\n",
      "200/200 [==============================] - 1s 3ms/step - loss: 0.0193 - accuracy: 0.9950 - precision: 0.9950 - recall: 0.9950 - auc: 0.9999 - val_loss: 0.3001 - val_accuracy: 0.9350 - val_precision: 0.9143 - val_recall: 0.9600 - val_auc: 0.9757\n",
      "Epoch 28/50\n",
      "200/200 [==============================] - 1s 3ms/step - loss: 0.0077 - accuracy: 1.0000 - precision: 1.0000 - recall: 1.0000 - auc: 1.0000 - val_loss: 0.2965 - val_accuracy: 0.9400 - val_precision: 0.9231 - val_recall: 0.9600 - val_auc: 0.9753\n",
      "Epoch 29/50\n",
      "200/200 [==============================] - 1s 3ms/step - loss: 0.0065 - accuracy: 1.0000 - precision: 1.0000 - recall: 1.0000 - auc: 1.0000 - val_loss: 0.3008 - val_accuracy: 0.9400 - val_precision: 0.9231 - val_recall: 0.9600 - val_auc: 0.9747\n",
      "Epoch 30/50\n",
      "200/200 [==============================] - 1s 3ms/step - loss: 0.0064 - accuracy: 1.0000 - precision: 1.0000 - recall: 1.0000 - auc: 1.0000 - val_loss: 0.3159 - val_accuracy: 0.9300 - val_precision: 0.9057 - val_recall: 0.9600 - val_auc: 0.9692\n",
      "Epoch 31/50\n",
      "200/200 [==============================] - 1s 3ms/step - loss: 0.0052 - accuracy: 1.0000 - precision: 1.0000 - recall: 1.0000 - auc: 1.0000 - val_loss: 0.3172 - val_accuracy: 0.9400 - val_precision: 0.9231 - val_recall: 0.9600 - val_auc: 0.9686\n",
      "Epoch 32/50\n",
      "200/200 [==============================] - 1s 3ms/step - loss: 0.0045 - accuracy: 1.0000 - precision: 1.0000 - recall: 1.0000 - auc: 1.0000 - val_loss: 0.3204 - val_accuracy: 0.9350 - val_precision: 0.9143 - val_recall: 0.9600 - val_auc: 0.9699\n"
     ]
    },
    {
     "name": "stdout",
     "output_type": "stream",
     "text": [
      "Epoch 33/50\n",
      "200/200 [==============================] - 1s 3ms/step - loss: 0.0066 - accuracy: 0.9975 - precision: 0.9975 - recall: 0.9975 - auc: 1.0000 - val_loss: 0.2902 - val_accuracy: 0.9350 - val_precision: 0.9223 - val_recall: 0.9500 - val_auc: 0.9729\n",
      "Epoch 34/50\n",
      "200/200 [==============================] - 1s 3ms/step - loss: 0.0083 - accuracy: 0.9975 - precision: 0.9975 - recall: 0.9975 - auc: 1.0000 - val_loss: 0.2903 - val_accuracy: 0.9350 - val_precision: 0.9143 - val_recall: 0.9600 - val_auc: 0.9693\n",
      "Epoch 35/50\n",
      "200/200 [==============================] - 1s 3ms/step - loss: 0.0092 - accuracy: 0.9975 - precision: 0.9975 - recall: 0.9975 - auc: 1.0000 - val_loss: 0.3036 - val_accuracy: 0.9350 - val_precision: 0.9143 - val_recall: 0.9600 - val_auc: 0.9706\n",
      "Epoch 36/50\n",
      "200/200 [==============================] - 1s 3ms/step - loss: 0.0042 - accuracy: 0.9987 - precision: 0.9975 - recall: 1.0000 - auc: 1.0000 - val_loss: 0.2991 - val_accuracy: 0.9400 - val_precision: 0.9231 - val_recall: 0.9600 - val_auc: 0.9713\n",
      "Epoch 37/50\n",
      "200/200 [==============================] - 1s 3ms/step - loss: 0.0073 - accuracy: 0.9962 - precision: 0.9975 - recall: 0.9950 - auc: 1.0000 - val_loss: 0.3071 - val_accuracy: 0.9350 - val_precision: 0.9143 - val_recall: 0.9600 - val_auc: 0.9704\n",
      "Epoch 38/50\n",
      "200/200 [==============================] - 1s 3ms/step - loss: 0.0033 - accuracy: 0.9987 - precision: 0.9975 - recall: 1.0000 - auc: 1.0000 - val_loss: 0.2954 - val_accuracy: 0.9350 - val_precision: 0.9223 - val_recall: 0.9500 - val_auc: 0.9749\n",
      "Epoch 39/50\n",
      "200/200 [==============================] - 1s 3ms/step - loss: 0.0039 - accuracy: 0.9987 - precision: 1.0000 - recall: 0.9975 - auc: 1.0000 - val_loss: 0.3198 - val_accuracy: 0.9400 - val_precision: 0.9231 - val_recall: 0.9600 - val_auc: 0.9714\n",
      "Epoch 40/50\n",
      "200/200 [==============================] - 1s 3ms/step - loss: 0.0019 - accuracy: 1.0000 - precision: 1.0000 - recall: 1.0000 - auc: 1.0000 - val_loss: 0.3206 - val_accuracy: 0.9400 - val_precision: 0.9231 - val_recall: 0.9600 - val_auc: 0.9728\n",
      "Epoch 41/50\n",
      "200/200 [==============================] - 1s 3ms/step - loss: 0.0016 - accuracy: 1.0000 - precision: 1.0000 - recall: 1.0000 - auc: 1.0000 - val_loss: 0.3111 - val_accuracy: 0.9400 - val_precision: 0.9231 - val_recall: 0.9600 - val_auc: 0.9730\n",
      "Epoch 42/50\n",
      "200/200 [==============================] - 1s 3ms/step - loss: 0.0015 - accuracy: 1.0000 - precision: 1.0000 - recall: 1.0000 - auc: 1.0000 - val_loss: 0.3216 - val_accuracy: 0.9400 - val_precision: 0.9231 - val_recall: 0.9600 - val_auc: 0.9702\n",
      "Epoch 43/50\n",
      "200/200 [==============================] - 1s 3ms/step - loss: 0.0015 - accuracy: 1.0000 - precision: 1.0000 - recall: 1.0000 - auc: 1.0000 - val_loss: 0.3212 - val_accuracy: 0.9400 - val_precision: 0.9231 - val_recall: 0.9600 - val_auc: 0.9734\n",
      "Epoch 44/50\n",
      "200/200 [==============================] - 1s 3ms/step - loss: 0.0015 - accuracy: 1.0000 - precision: 1.0000 - recall: 1.0000 - auc: 1.0000 - val_loss: 0.3138 - val_accuracy: 0.9400 - val_precision: 0.9231 - val_recall: 0.9600 - val_auc: 0.9734\n",
      "Epoch 45/50\n",
      "200/200 [==============================] - 1s 3ms/step - loss: 0.0026 - accuracy: 1.0000 - precision: 1.0000 - recall: 1.0000 - auc: 1.0000 - val_loss: 0.3361 - val_accuracy: 0.9350 - val_precision: 0.9223 - val_recall: 0.9500 - val_auc: 0.9660\n",
      "Epoch 46/50\n",
      "200/200 [==============================] - 1s 3ms/step - loss: 0.0782 - accuracy: 0.9750 - precision: 0.9750 - recall: 0.9750 - auc: 0.9954 - val_loss: 0.6325 - val_accuracy: 0.9050 - val_precision: 0.8857 - val_recall: 0.9300 - val_auc: 0.9356\n",
      "Epoch 47/50\n",
      "200/200 [==============================] - 1s 3ms/step - loss: 0.2329 - accuracy: 0.9325 - precision: 0.9303 - recall: 0.9350 - auc: 0.9751 - val_loss: 0.4958 - val_accuracy: 0.8850 - val_precision: 0.8738 - val_recall: 0.9000 - val_auc: 0.9582\n",
      "Epoch 48/50\n",
      "200/200 [==============================] - 1s 3ms/step - loss: 0.0572 - accuracy: 0.9812 - precision: 0.9800 - recall: 0.9825 - auc: 0.9968 - val_loss: 0.2456 - val_accuracy: 0.9250 - val_precision: 0.9208 - val_recall: 0.9300 - val_auc: 0.9677\n",
      "Epoch 49/50\n",
      "200/200 [==============================] - 1s 3ms/step - loss: 0.0293 - accuracy: 0.9912 - precision: 0.9900 - recall: 0.9925 - auc: 0.9992 - val_loss: 0.2479 - val_accuracy: 0.9250 - val_precision: 0.9126 - val_recall: 0.9400 - val_auc: 0.9707\n",
      "Epoch 50/50\n",
      "200/200 [==============================] - 1s 3ms/step - loss: 0.0080 - accuracy: 1.0000 - precision: 1.0000 - recall: 1.0000 - auc: 1.0000 - val_loss: 0.2909 - val_accuracy: 0.9250 - val_precision: 0.9048 - val_recall: 0.9500 - val_auc: 0.9706\n"
     ]
    }
   ],
   "source": [
    "num_epochs = 50\n",
    "history = dl_model.fit(X1_s_train ,\n",
    "                    y1_s_train ,\n",
    "                    epochs= num_epochs ,\n",
    "                    steps_per_epoch=200,\n",
    "                    validation_data=(X1_s_test ,y1_s_test))"
   ]
  },
  {
   "cell_type": "code",
   "execution_count": 66,
   "metadata": {
    "execution": {
     "iopub.execute_input": "2022-10-12T18:20:36.787677Z",
     "iopub.status.busy": "2022-10-12T18:20:36.787304Z",
     "iopub.status.idle": "2022-10-12T18:20:37.442787Z",
     "shell.execute_reply": "2022-10-12T18:20:37.441790Z",
     "shell.execute_reply.started": "2022-10-12T18:20:36.787642Z"
    }
   },
   "outputs": [
    {
     "name": "stdout",
     "output_type": "stream",
     "text": [
      "25/25 [==============================] - 0s 3ms/step - loss: 0.0044 - accuracy: 1.0000 - precision: 1.0000 - recall: 1.0000 - auc: 1.0000\n"
     ]
    },
    {
     "data": {
      "text/plain": [
       "[0.0044237528927624226, 1.0, 1.0, 1.0, 1.0]"
      ]
     },
     "execution_count": 66,
     "metadata": {},
     "output_type": "execute_result"
    }
   ],
   "source": [
    "dl_model.evaluate(X1_s_train ,\n",
    "                    y1_s_train)"
   ]
  },
  {
   "cell_type": "code",
   "execution_count": 67,
   "metadata": {
    "execution": {
     "iopub.execute_input": "2022-10-12T18:20:37.445594Z",
     "iopub.status.busy": "2022-10-12T18:20:37.444708Z",
     "iopub.status.idle": "2022-10-12T18:20:37.537321Z",
     "shell.execute_reply": "2022-10-12T18:20:37.536128Z",
     "shell.execute_reply.started": "2022-10-12T18:20:37.445543Z"
    }
   },
   "outputs": [
    {
     "name": "stdout",
     "output_type": "stream",
     "text": [
      "7/7 [==============================] - 0s 5ms/step - loss: 0.2909 - accuracy: 0.9250 - precision: 0.9048 - recall: 0.9500 - auc: 0.9706\n"
     ]
    },
    {
     "data": {
      "text/plain": [
       "[0.2908802330493927,\n",
       " 0.925000011920929,\n",
       " 0.9047619104385376,\n",
       " 0.949999988079071,\n",
       " 0.970550000667572]"
      ]
     },
     "execution_count": 67,
     "metadata": {},
     "output_type": "execute_result"
    }
   ],
   "source": [
    "dl_model.evaluate(X1_s_test ,y1_s_test)"
   ]
  }
 ],
 "metadata": {
  "kernelspec": {
   "display_name": "Python 3 (ipykernel)",
   "language": "python",
   "name": "python3"
  },
  "language_info": {
   "codemirror_mode": {
    "name": "ipython",
    "version": 3
   },
   "file_extension": ".py",
   "mimetype": "text/x-python",
   "name": "python",
   "nbconvert_exporter": "python",
   "pygments_lexer": "ipython3",
   "version": "3.9.13"
  }
 },
 "nbformat": 4,
 "nbformat_minor": 4
}
